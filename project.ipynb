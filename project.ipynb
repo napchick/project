{
  "cells": [
    {
      "cell_type": "markdown",
      "metadata": {
        "id": "view-in-github",
        "colab_type": "text"
      },
      "source": [
        "<a href=\"https://colab.research.google.com/github/napchick/project/blob/main/project.ipynb\" target=\"_parent\"><img src=\"https://colab.research.google.com/assets/colab-badge.svg\" alt=\"Open In Colab\"/></a>"
      ]
    },
    {
      "cell_type": "markdown",
      "source": [
        "# Задачей является по описанию машины предсказать ее стоимость, датасет взят отсюда: https://www.kaggle.com/datasets/deepcontractor/car-price-prediction-challenge"
      ],
      "metadata": {
        "id": "HkyXD8SUBcGH"
      },
      "id": "HkyXD8SUBcGH"
    },
    {
      "cell_type": "code",
      "source": [
        "import pandas as pd\n",
        "import numpy as np"
      ],
      "metadata": {
        "id": "s32aE3XCBc1I"
      },
      "id": "s32aE3XCBc1I",
      "execution_count": null,
      "outputs": []
    },
    {
      "cell_type": "code",
      "execution_count": 35,
      "id": "c6e5060f-6bd9-43f3-ae7e-e5f96c250f6a",
      "metadata": {
        "id": "c6e5060f-6bd9-43f3-ae7e-e5f96c250f6a"
      },
      "outputs": [],
      "source": [
        "data = pd.read_csv('car_price_prediction.csv', delimiter=',')"
      ]
    },
    {
      "cell_type": "code",
      "execution_count": 36,
      "id": "044ddc75-cd2f-4e9c-a98f-a923cfaafc5c",
      "metadata": {
        "colab": {
          "base_uri": "https://localhost:8080/",
          "height": 669
        },
        "id": "044ddc75-cd2f-4e9c-a98f-a923cfaafc5c",
        "outputId": "c65a47c6-14b6-488b-fdd2-f074e0677475"
      },
      "outputs": [
        {
          "output_type": "execute_result",
          "data": {
            "text/plain": [
              "             ID  Price  Levy   Manufacturer    Model  Prod. year   Category  \\\n",
              "0      45654403  13328  1399          LEXUS   RX 450        2010       Jeep   \n",
              "1      44731507  16621  1018      CHEVROLET  Equinox        2011       Jeep   \n",
              "2      45774419   8467     -          HONDA      FIT        2006  Hatchback   \n",
              "3      45769185   3607   862           FORD   Escape        2011       Jeep   \n",
              "4      45809263  11726   446          HONDA      FIT        2014  Hatchback   \n",
              "...         ...    ...   ...            ...      ...         ...        ...   \n",
              "19232  45798355   8467     -  MERCEDES-BENZ  CLK 200        1999      Coupe   \n",
              "19233  45778856  15681   831        HYUNDAI   Sonata        2011      Sedan   \n",
              "19234  45804997  26108   836        HYUNDAI   Tucson        2010       Jeep   \n",
              "19235  45793526   5331  1288      CHEVROLET  Captiva        2007       Jeep   \n",
              "19236  45813273    470   753        HYUNDAI   Sonata        2012      Sedan   \n",
              "\n",
              "      Leather interior Fuel type Engine volume    Mileage  Cylinders  \\\n",
              "0                  Yes    Hybrid           3.5  186005 km        6.0   \n",
              "1                   No    Petrol             3  192000 km        6.0   \n",
              "2                   No    Petrol           1.3  200000 km        4.0   \n",
              "3                  Yes    Hybrid           2.5  168966 km        4.0   \n",
              "4                  Yes    Petrol           1.3   91901 km        4.0   \n",
              "...                ...       ...           ...        ...        ...   \n",
              "19232              Yes       CNG     2.0 Turbo  300000 km        4.0   \n",
              "19233              Yes    Petrol           2.4  161600 km        4.0   \n",
              "19234              Yes    Diesel             2  116365 km        4.0   \n",
              "19235              Yes    Diesel             2   51258 km        4.0   \n",
              "19236              Yes    Hybrid           2.4  186923 km        4.0   \n",
              "\n",
              "      Gear box type Drive wheels   Doors             Wheel   Color  Airbags  \n",
              "0         Automatic          4x4  04-May        Left wheel  Silver       12  \n",
              "1         Tiptronic          4x4  04-May        Left wheel   Black        8  \n",
              "2          Variator        Front  04-May  Right-hand drive   Black        2  \n",
              "3         Automatic          4x4  04-May        Left wheel   White        0  \n",
              "4         Automatic        Front  04-May        Left wheel  Silver        4  \n",
              "...             ...          ...     ...               ...     ...      ...  \n",
              "19232        Manual         Rear  02-Mar        Left wheel  Silver        5  \n",
              "19233     Tiptronic        Front  04-May        Left wheel     Red        8  \n",
              "19234     Automatic        Front  04-May        Left wheel    Grey        4  \n",
              "19235     Automatic        Front  04-May        Left wheel   Black        4  \n",
              "19236     Automatic        Front  04-May        Left wheel   White       12  \n",
              "\n",
              "[19237 rows x 18 columns]"
            ],
            "text/html": [
              "\n",
              "  <div id=\"df-93c81d14-9562-4357-befe-3280630e9571\" class=\"colab-df-container\">\n",
              "    <div>\n",
              "<style scoped>\n",
              "    .dataframe tbody tr th:only-of-type {\n",
              "        vertical-align: middle;\n",
              "    }\n",
              "\n",
              "    .dataframe tbody tr th {\n",
              "        vertical-align: top;\n",
              "    }\n",
              "\n",
              "    .dataframe thead th {\n",
              "        text-align: right;\n",
              "    }\n",
              "</style>\n",
              "<table border=\"1\" class=\"dataframe\">\n",
              "  <thead>\n",
              "    <tr style=\"text-align: right;\">\n",
              "      <th></th>\n",
              "      <th>ID</th>\n",
              "      <th>Price</th>\n",
              "      <th>Levy</th>\n",
              "      <th>Manufacturer</th>\n",
              "      <th>Model</th>\n",
              "      <th>Prod. year</th>\n",
              "      <th>Category</th>\n",
              "      <th>Leather interior</th>\n",
              "      <th>Fuel type</th>\n",
              "      <th>Engine volume</th>\n",
              "      <th>Mileage</th>\n",
              "      <th>Cylinders</th>\n",
              "      <th>Gear box type</th>\n",
              "      <th>Drive wheels</th>\n",
              "      <th>Doors</th>\n",
              "      <th>Wheel</th>\n",
              "      <th>Color</th>\n",
              "      <th>Airbags</th>\n",
              "    </tr>\n",
              "  </thead>\n",
              "  <tbody>\n",
              "    <tr>\n",
              "      <th>0</th>\n",
              "      <td>45654403</td>\n",
              "      <td>13328</td>\n",
              "      <td>1399</td>\n",
              "      <td>LEXUS</td>\n",
              "      <td>RX 450</td>\n",
              "      <td>2010</td>\n",
              "      <td>Jeep</td>\n",
              "      <td>Yes</td>\n",
              "      <td>Hybrid</td>\n",
              "      <td>3.5</td>\n",
              "      <td>186005 km</td>\n",
              "      <td>6.0</td>\n",
              "      <td>Automatic</td>\n",
              "      <td>4x4</td>\n",
              "      <td>04-May</td>\n",
              "      <td>Left wheel</td>\n",
              "      <td>Silver</td>\n",
              "      <td>12</td>\n",
              "    </tr>\n",
              "    <tr>\n",
              "      <th>1</th>\n",
              "      <td>44731507</td>\n",
              "      <td>16621</td>\n",
              "      <td>1018</td>\n",
              "      <td>CHEVROLET</td>\n",
              "      <td>Equinox</td>\n",
              "      <td>2011</td>\n",
              "      <td>Jeep</td>\n",
              "      <td>No</td>\n",
              "      <td>Petrol</td>\n",
              "      <td>3</td>\n",
              "      <td>192000 km</td>\n",
              "      <td>6.0</td>\n",
              "      <td>Tiptronic</td>\n",
              "      <td>4x4</td>\n",
              "      <td>04-May</td>\n",
              "      <td>Left wheel</td>\n",
              "      <td>Black</td>\n",
              "      <td>8</td>\n",
              "    </tr>\n",
              "    <tr>\n",
              "      <th>2</th>\n",
              "      <td>45774419</td>\n",
              "      <td>8467</td>\n",
              "      <td>-</td>\n",
              "      <td>HONDA</td>\n",
              "      <td>FIT</td>\n",
              "      <td>2006</td>\n",
              "      <td>Hatchback</td>\n",
              "      <td>No</td>\n",
              "      <td>Petrol</td>\n",
              "      <td>1.3</td>\n",
              "      <td>200000 km</td>\n",
              "      <td>4.0</td>\n",
              "      <td>Variator</td>\n",
              "      <td>Front</td>\n",
              "      <td>04-May</td>\n",
              "      <td>Right-hand drive</td>\n",
              "      <td>Black</td>\n",
              "      <td>2</td>\n",
              "    </tr>\n",
              "    <tr>\n",
              "      <th>3</th>\n",
              "      <td>45769185</td>\n",
              "      <td>3607</td>\n",
              "      <td>862</td>\n",
              "      <td>FORD</td>\n",
              "      <td>Escape</td>\n",
              "      <td>2011</td>\n",
              "      <td>Jeep</td>\n",
              "      <td>Yes</td>\n",
              "      <td>Hybrid</td>\n",
              "      <td>2.5</td>\n",
              "      <td>168966 km</td>\n",
              "      <td>4.0</td>\n",
              "      <td>Automatic</td>\n",
              "      <td>4x4</td>\n",
              "      <td>04-May</td>\n",
              "      <td>Left wheel</td>\n",
              "      <td>White</td>\n",
              "      <td>0</td>\n",
              "    </tr>\n",
              "    <tr>\n",
              "      <th>4</th>\n",
              "      <td>45809263</td>\n",
              "      <td>11726</td>\n",
              "      <td>446</td>\n",
              "      <td>HONDA</td>\n",
              "      <td>FIT</td>\n",
              "      <td>2014</td>\n",
              "      <td>Hatchback</td>\n",
              "      <td>Yes</td>\n",
              "      <td>Petrol</td>\n",
              "      <td>1.3</td>\n",
              "      <td>91901 km</td>\n",
              "      <td>4.0</td>\n",
              "      <td>Automatic</td>\n",
              "      <td>Front</td>\n",
              "      <td>04-May</td>\n",
              "      <td>Left wheel</td>\n",
              "      <td>Silver</td>\n",
              "      <td>4</td>\n",
              "    </tr>\n",
              "    <tr>\n",
              "      <th>...</th>\n",
              "      <td>...</td>\n",
              "      <td>...</td>\n",
              "      <td>...</td>\n",
              "      <td>...</td>\n",
              "      <td>...</td>\n",
              "      <td>...</td>\n",
              "      <td>...</td>\n",
              "      <td>...</td>\n",
              "      <td>...</td>\n",
              "      <td>...</td>\n",
              "      <td>...</td>\n",
              "      <td>...</td>\n",
              "      <td>...</td>\n",
              "      <td>...</td>\n",
              "      <td>...</td>\n",
              "      <td>...</td>\n",
              "      <td>...</td>\n",
              "      <td>...</td>\n",
              "    </tr>\n",
              "    <tr>\n",
              "      <th>19232</th>\n",
              "      <td>45798355</td>\n",
              "      <td>8467</td>\n",
              "      <td>-</td>\n",
              "      <td>MERCEDES-BENZ</td>\n",
              "      <td>CLK 200</td>\n",
              "      <td>1999</td>\n",
              "      <td>Coupe</td>\n",
              "      <td>Yes</td>\n",
              "      <td>CNG</td>\n",
              "      <td>2.0 Turbo</td>\n",
              "      <td>300000 km</td>\n",
              "      <td>4.0</td>\n",
              "      <td>Manual</td>\n",
              "      <td>Rear</td>\n",
              "      <td>02-Mar</td>\n",
              "      <td>Left wheel</td>\n",
              "      <td>Silver</td>\n",
              "      <td>5</td>\n",
              "    </tr>\n",
              "    <tr>\n",
              "      <th>19233</th>\n",
              "      <td>45778856</td>\n",
              "      <td>15681</td>\n",
              "      <td>831</td>\n",
              "      <td>HYUNDAI</td>\n",
              "      <td>Sonata</td>\n",
              "      <td>2011</td>\n",
              "      <td>Sedan</td>\n",
              "      <td>Yes</td>\n",
              "      <td>Petrol</td>\n",
              "      <td>2.4</td>\n",
              "      <td>161600 km</td>\n",
              "      <td>4.0</td>\n",
              "      <td>Tiptronic</td>\n",
              "      <td>Front</td>\n",
              "      <td>04-May</td>\n",
              "      <td>Left wheel</td>\n",
              "      <td>Red</td>\n",
              "      <td>8</td>\n",
              "    </tr>\n",
              "    <tr>\n",
              "      <th>19234</th>\n",
              "      <td>45804997</td>\n",
              "      <td>26108</td>\n",
              "      <td>836</td>\n",
              "      <td>HYUNDAI</td>\n",
              "      <td>Tucson</td>\n",
              "      <td>2010</td>\n",
              "      <td>Jeep</td>\n",
              "      <td>Yes</td>\n",
              "      <td>Diesel</td>\n",
              "      <td>2</td>\n",
              "      <td>116365 km</td>\n",
              "      <td>4.0</td>\n",
              "      <td>Automatic</td>\n",
              "      <td>Front</td>\n",
              "      <td>04-May</td>\n",
              "      <td>Left wheel</td>\n",
              "      <td>Grey</td>\n",
              "      <td>4</td>\n",
              "    </tr>\n",
              "    <tr>\n",
              "      <th>19235</th>\n",
              "      <td>45793526</td>\n",
              "      <td>5331</td>\n",
              "      <td>1288</td>\n",
              "      <td>CHEVROLET</td>\n",
              "      <td>Captiva</td>\n",
              "      <td>2007</td>\n",
              "      <td>Jeep</td>\n",
              "      <td>Yes</td>\n",
              "      <td>Diesel</td>\n",
              "      <td>2</td>\n",
              "      <td>51258 km</td>\n",
              "      <td>4.0</td>\n",
              "      <td>Automatic</td>\n",
              "      <td>Front</td>\n",
              "      <td>04-May</td>\n",
              "      <td>Left wheel</td>\n",
              "      <td>Black</td>\n",
              "      <td>4</td>\n",
              "    </tr>\n",
              "    <tr>\n",
              "      <th>19236</th>\n",
              "      <td>45813273</td>\n",
              "      <td>470</td>\n",
              "      <td>753</td>\n",
              "      <td>HYUNDAI</td>\n",
              "      <td>Sonata</td>\n",
              "      <td>2012</td>\n",
              "      <td>Sedan</td>\n",
              "      <td>Yes</td>\n",
              "      <td>Hybrid</td>\n",
              "      <td>2.4</td>\n",
              "      <td>186923 km</td>\n",
              "      <td>4.0</td>\n",
              "      <td>Automatic</td>\n",
              "      <td>Front</td>\n",
              "      <td>04-May</td>\n",
              "      <td>Left wheel</td>\n",
              "      <td>White</td>\n",
              "      <td>12</td>\n",
              "    </tr>\n",
              "  </tbody>\n",
              "</table>\n",
              "<p>19237 rows × 18 columns</p>\n",
              "</div>\n",
              "    <div class=\"colab-df-buttons\">\n",
              "\n",
              "  <div class=\"colab-df-container\">\n",
              "    <button class=\"colab-df-convert\" onclick=\"convertToInteractive('df-93c81d14-9562-4357-befe-3280630e9571')\"\n",
              "            title=\"Convert this dataframe to an interactive table.\"\n",
              "            style=\"display:none;\">\n",
              "\n",
              "  <svg xmlns=\"http://www.w3.org/2000/svg\" height=\"24px\" viewBox=\"0 -960 960 960\">\n",
              "    <path d=\"M120-120v-720h720v720H120Zm60-500h600v-160H180v160Zm220 220h160v-160H400v160Zm0 220h160v-160H400v160ZM180-400h160v-160H180v160Zm440 0h160v-160H620v160ZM180-180h160v-160H180v160Zm440 0h160v-160H620v160Z\"/>\n",
              "  </svg>\n",
              "    </button>\n",
              "\n",
              "  <style>\n",
              "    .colab-df-container {\n",
              "      display:flex;\n",
              "      gap: 12px;\n",
              "    }\n",
              "\n",
              "    .colab-df-convert {\n",
              "      background-color: #E8F0FE;\n",
              "      border: none;\n",
              "      border-radius: 50%;\n",
              "      cursor: pointer;\n",
              "      display: none;\n",
              "      fill: #1967D2;\n",
              "      height: 32px;\n",
              "      padding: 0 0 0 0;\n",
              "      width: 32px;\n",
              "    }\n",
              "\n",
              "    .colab-df-convert:hover {\n",
              "      background-color: #E2EBFA;\n",
              "      box-shadow: 0px 1px 2px rgba(60, 64, 67, 0.3), 0px 1px 3px 1px rgba(60, 64, 67, 0.15);\n",
              "      fill: #174EA6;\n",
              "    }\n",
              "\n",
              "    .colab-df-buttons div {\n",
              "      margin-bottom: 4px;\n",
              "    }\n",
              "\n",
              "    [theme=dark] .colab-df-convert {\n",
              "      background-color: #3B4455;\n",
              "      fill: #D2E3FC;\n",
              "    }\n",
              "\n",
              "    [theme=dark] .colab-df-convert:hover {\n",
              "      background-color: #434B5C;\n",
              "      box-shadow: 0px 1px 3px 1px rgba(0, 0, 0, 0.15);\n",
              "      filter: drop-shadow(0px 1px 2px rgba(0, 0, 0, 0.3));\n",
              "      fill: #FFFFFF;\n",
              "    }\n",
              "  </style>\n",
              "\n",
              "    <script>\n",
              "      const buttonEl =\n",
              "        document.querySelector('#df-93c81d14-9562-4357-befe-3280630e9571 button.colab-df-convert');\n",
              "      buttonEl.style.display =\n",
              "        google.colab.kernel.accessAllowed ? 'block' : 'none';\n",
              "\n",
              "      async function convertToInteractive(key) {\n",
              "        const element = document.querySelector('#df-93c81d14-9562-4357-befe-3280630e9571');\n",
              "        const dataTable =\n",
              "          await google.colab.kernel.invokeFunction('convertToInteractive',\n",
              "                                                    [key], {});\n",
              "        if (!dataTable) return;\n",
              "\n",
              "        const docLinkHtml = 'Like what you see? Visit the ' +\n",
              "          '<a target=\"_blank\" href=https://colab.research.google.com/notebooks/data_table.ipynb>data table notebook</a>'\n",
              "          + ' to learn more about interactive tables.';\n",
              "        element.innerHTML = '';\n",
              "        dataTable['output_type'] = 'display_data';\n",
              "        await google.colab.output.renderOutput(dataTable, element);\n",
              "        const docLink = document.createElement('div');\n",
              "        docLink.innerHTML = docLinkHtml;\n",
              "        element.appendChild(docLink);\n",
              "      }\n",
              "    </script>\n",
              "  </div>\n",
              "\n",
              "\n",
              "<div id=\"df-4183d4f6-b50b-4bb2-9890-c0a61d0f454a\">\n",
              "  <button class=\"colab-df-quickchart\" onclick=\"quickchart('df-4183d4f6-b50b-4bb2-9890-c0a61d0f454a')\"\n",
              "            title=\"Suggest charts\"\n",
              "            style=\"display:none;\">\n",
              "\n",
              "<svg xmlns=\"http://www.w3.org/2000/svg\" height=\"24px\"viewBox=\"0 0 24 24\"\n",
              "     width=\"24px\">\n",
              "    <g>\n",
              "        <path d=\"M19 3H5c-1.1 0-2 .9-2 2v14c0 1.1.9 2 2 2h14c1.1 0 2-.9 2-2V5c0-1.1-.9-2-2-2zM9 17H7v-7h2v7zm4 0h-2V7h2v10zm4 0h-2v-4h2v4z\"/>\n",
              "    </g>\n",
              "</svg>\n",
              "  </button>\n",
              "\n",
              "<style>\n",
              "  .colab-df-quickchart {\n",
              "      --bg-color: #E8F0FE;\n",
              "      --fill-color: #1967D2;\n",
              "      --hover-bg-color: #E2EBFA;\n",
              "      --hover-fill-color: #174EA6;\n",
              "      --disabled-fill-color: #AAA;\n",
              "      --disabled-bg-color: #DDD;\n",
              "  }\n",
              "\n",
              "  [theme=dark] .colab-df-quickchart {\n",
              "      --bg-color: #3B4455;\n",
              "      --fill-color: #D2E3FC;\n",
              "      --hover-bg-color: #434B5C;\n",
              "      --hover-fill-color: #FFFFFF;\n",
              "      --disabled-bg-color: #3B4455;\n",
              "      --disabled-fill-color: #666;\n",
              "  }\n",
              "\n",
              "  .colab-df-quickchart {\n",
              "    background-color: var(--bg-color);\n",
              "    border: none;\n",
              "    border-radius: 50%;\n",
              "    cursor: pointer;\n",
              "    display: none;\n",
              "    fill: var(--fill-color);\n",
              "    height: 32px;\n",
              "    padding: 0;\n",
              "    width: 32px;\n",
              "  }\n",
              "\n",
              "  .colab-df-quickchart:hover {\n",
              "    background-color: var(--hover-bg-color);\n",
              "    box-shadow: 0 1px 2px rgba(60, 64, 67, 0.3), 0 1px 3px 1px rgba(60, 64, 67, 0.15);\n",
              "    fill: var(--button-hover-fill-color);\n",
              "  }\n",
              "\n",
              "  .colab-df-quickchart-complete:disabled,\n",
              "  .colab-df-quickchart-complete:disabled:hover {\n",
              "    background-color: var(--disabled-bg-color);\n",
              "    fill: var(--disabled-fill-color);\n",
              "    box-shadow: none;\n",
              "  }\n",
              "\n",
              "  .colab-df-spinner {\n",
              "    border: 2px solid var(--fill-color);\n",
              "    border-color: transparent;\n",
              "    border-bottom-color: var(--fill-color);\n",
              "    animation:\n",
              "      spin 1s steps(1) infinite;\n",
              "  }\n",
              "\n",
              "  @keyframes spin {\n",
              "    0% {\n",
              "      border-color: transparent;\n",
              "      border-bottom-color: var(--fill-color);\n",
              "      border-left-color: var(--fill-color);\n",
              "    }\n",
              "    20% {\n",
              "      border-color: transparent;\n",
              "      border-left-color: var(--fill-color);\n",
              "      border-top-color: var(--fill-color);\n",
              "    }\n",
              "    30% {\n",
              "      border-color: transparent;\n",
              "      border-left-color: var(--fill-color);\n",
              "      border-top-color: var(--fill-color);\n",
              "      border-right-color: var(--fill-color);\n",
              "    }\n",
              "    40% {\n",
              "      border-color: transparent;\n",
              "      border-right-color: var(--fill-color);\n",
              "      border-top-color: var(--fill-color);\n",
              "    }\n",
              "    60% {\n",
              "      border-color: transparent;\n",
              "      border-right-color: var(--fill-color);\n",
              "    }\n",
              "    80% {\n",
              "      border-color: transparent;\n",
              "      border-right-color: var(--fill-color);\n",
              "      border-bottom-color: var(--fill-color);\n",
              "    }\n",
              "    90% {\n",
              "      border-color: transparent;\n",
              "      border-bottom-color: var(--fill-color);\n",
              "    }\n",
              "  }\n",
              "</style>\n",
              "\n",
              "  <script>\n",
              "    async function quickchart(key) {\n",
              "      const quickchartButtonEl =\n",
              "        document.querySelector('#' + key + ' button');\n",
              "      quickchartButtonEl.disabled = true;  // To prevent multiple clicks.\n",
              "      quickchartButtonEl.classList.add('colab-df-spinner');\n",
              "      try {\n",
              "        const charts = await google.colab.kernel.invokeFunction(\n",
              "            'suggestCharts', [key], {});\n",
              "      } catch (error) {\n",
              "        console.error('Error during call to suggestCharts:', error);\n",
              "      }\n",
              "      quickchartButtonEl.classList.remove('colab-df-spinner');\n",
              "      quickchartButtonEl.classList.add('colab-df-quickchart-complete');\n",
              "    }\n",
              "    (() => {\n",
              "      let quickchartButtonEl =\n",
              "        document.querySelector('#df-4183d4f6-b50b-4bb2-9890-c0a61d0f454a button');\n",
              "      quickchartButtonEl.style.display =\n",
              "        google.colab.kernel.accessAllowed ? 'block' : 'none';\n",
              "    })();\n",
              "  </script>\n",
              "</div>\n",
              "    </div>\n",
              "  </div>\n"
            ],
            "application/vnd.google.colaboratory.intrinsic+json": {
              "type": "dataframe",
              "variable_name": "data",
              "summary": "{\n  \"name\": \"data\",\n  \"rows\": 19237,\n  \"fields\": [\n    {\n      \"column\": \"ID\",\n      \"properties\": {\n        \"dtype\": \"number\",\n        \"std\": 936591,\n        \"min\": 20746880,\n        \"max\": 45816654,\n        \"num_unique_values\": 18924,\n        \"samples\": [\n          45770559,\n          45812744,\n          45803306\n        ],\n        \"semantic_type\": \"\",\n        \"description\": \"\"\n      }\n    },\n    {\n      \"column\": \"Price\",\n      \"properties\": {\n        \"dtype\": \"number\",\n        \"std\": 190581,\n        \"min\": 1,\n        \"max\": 26307500,\n        \"num_unique_values\": 2315,\n        \"samples\": [\n          31650,\n          10914,\n          9408\n        ],\n        \"semantic_type\": \"\",\n        \"description\": \"\"\n      }\n    },\n    {\n      \"column\": \"Levy\",\n      \"properties\": {\n        \"dtype\": \"category\",\n        \"num_unique_values\": 559,\n        \"samples\": [\n          \"638\",\n          \"2216\",\n          \"1095\"\n        ],\n        \"semantic_type\": \"\",\n        \"description\": \"\"\n      }\n    },\n    {\n      \"column\": \"Manufacturer\",\n      \"properties\": {\n        \"dtype\": \"category\",\n        \"num_unique_values\": 65,\n        \"samples\": [\n          \"SEAT\",\n          \"ROLLS-ROYCE\",\n          \"LEXUS\"\n        ],\n        \"semantic_type\": \"\",\n        \"description\": \"\"\n      }\n    },\n    {\n      \"column\": \"Model\",\n      \"properties\": {\n        \"dtype\": \"category\",\n        \"num_unique_values\": 1590,\n        \"samples\": [\n          \"Fusion Bybrid\",\n          \"Bluebird\",\n          \"Prius Plug in\"\n        ],\n        \"semantic_type\": \"\",\n        \"description\": \"\"\n      }\n    },\n    {\n      \"column\": \"Prod. year\",\n      \"properties\": {\n        \"dtype\": \"number\",\n        \"std\": 5,\n        \"min\": 1939,\n        \"max\": 2020,\n        \"num_unique_values\": 54,\n        \"samples\": [\n          2004,\n          1968,\n          1939\n        ],\n        \"semantic_type\": \"\",\n        \"description\": \"\"\n      }\n    },\n    {\n      \"column\": \"Category\",\n      \"properties\": {\n        \"dtype\": \"category\",\n        \"num_unique_values\": 11,\n        \"samples\": [\n          \"Universal\",\n          \"Jeep\",\n          \"Limousine\"\n        ],\n        \"semantic_type\": \"\",\n        \"description\": \"\"\n      }\n    },\n    {\n      \"column\": \"Leather interior\",\n      \"properties\": {\n        \"dtype\": \"category\",\n        \"num_unique_values\": 2,\n        \"samples\": [\n          \"No\",\n          \"Yes\"\n        ],\n        \"semantic_type\": \"\",\n        \"description\": \"\"\n      }\n    },\n    {\n      \"column\": \"Fuel type\",\n      \"properties\": {\n        \"dtype\": \"category\",\n        \"num_unique_values\": 7,\n        \"samples\": [\n          \"Hybrid\",\n          \"Petrol\"\n        ],\n        \"semantic_type\": \"\",\n        \"description\": \"\"\n      }\n    },\n    {\n      \"column\": \"Engine volume\",\n      \"properties\": {\n        \"dtype\": \"category\",\n        \"num_unique_values\": 107,\n        \"samples\": [\n          \"3.7 Turbo\",\n          \"2.0 Turbo\"\n        ],\n        \"semantic_type\": \"\",\n        \"description\": \"\"\n      }\n    },\n    {\n      \"column\": \"Mileage\",\n      \"properties\": {\n        \"dtype\": \"category\",\n        \"num_unique_values\": 7687,\n        \"samples\": [\n          \"20147 km\",\n          \"70800 km\"\n        ],\n        \"semantic_type\": \"\",\n        \"description\": \"\"\n      }\n    },\n    {\n      \"column\": \"Cylinders\",\n      \"properties\": {\n        \"dtype\": \"number\",\n        \"std\": 1.1999331679654894,\n        \"min\": 1.0,\n        \"max\": 16.0,\n        \"num_unique_values\": 13,\n        \"samples\": [\n          10.0,\n          7.0\n        ],\n        \"semantic_type\": \"\",\n        \"description\": \"\"\n      }\n    },\n    {\n      \"column\": \"Gear box type\",\n      \"properties\": {\n        \"dtype\": \"category\",\n        \"num_unique_values\": 4,\n        \"samples\": [\n          \"Tiptronic\",\n          \"Manual\"\n        ],\n        \"semantic_type\": \"\",\n        \"description\": \"\"\n      }\n    },\n    {\n      \"column\": \"Drive wheels\",\n      \"properties\": {\n        \"dtype\": \"category\",\n        \"num_unique_values\": 3,\n        \"samples\": [\n          \"4x4\",\n          \"Front\"\n        ],\n        \"semantic_type\": \"\",\n        \"description\": \"\"\n      }\n    },\n    {\n      \"column\": \"Doors\",\n      \"properties\": {\n        \"dtype\": \"category\",\n        \"num_unique_values\": 3,\n        \"samples\": [\n          \"04-May\",\n          \"02-Mar\"\n        ],\n        \"semantic_type\": \"\",\n        \"description\": \"\"\n      }\n    },\n    {\n      \"column\": \"Wheel\",\n      \"properties\": {\n        \"dtype\": \"category\",\n        \"num_unique_values\": 2,\n        \"samples\": [\n          \"Right-hand drive\",\n          \"Left wheel\"\n        ],\n        \"semantic_type\": \"\",\n        \"description\": \"\"\n      }\n    },\n    {\n      \"column\": \"Color\",\n      \"properties\": {\n        \"dtype\": \"category\",\n        \"num_unique_values\": 16,\n        \"samples\": [\n          \"Silver\",\n          \"Black\"\n        ],\n        \"semantic_type\": \"\",\n        \"description\": \"\"\n      }\n    },\n    {\n      \"column\": \"Airbags\",\n      \"properties\": {\n        \"dtype\": \"number\",\n        \"std\": 4,\n        \"min\": 0,\n        \"max\": 16,\n        \"num_unique_values\": 17,\n        \"samples\": [\n          12,\n          8\n        ],\n        \"semantic_type\": \"\",\n        \"description\": \"\"\n      }\n    }\n  ]\n}"
            }
          },
          "metadata": {},
          "execution_count": 36
        }
      ],
      "source": [
        "data"
      ]
    },
    {
      "cell_type": "markdown",
      "id": "7ac2b60d-c4b7-46a6-ba69-f48c9b8dbc58",
      "metadata": {
        "id": "7ac2b60d-c4b7-46a6-ba69-f48c9b8dbc58"
      },
      "source": [
        "## 1. EDA"
      ]
    },
    {
      "cell_type": "markdown",
      "id": "5417ca60-5b81-43f4-b687-77bbee284c03",
      "metadata": {
        "tags": [],
        "id": "5417ca60-5b81-43f4-b687-77bbee284c03"
      },
      "source": [
        "### 1.1 Изучение данных"
      ]
    },
    {
      "cell_type": "code",
      "execution_count": 37,
      "id": "67c9d522-3f47-4e62-82b3-a6b102121326",
      "metadata": {
        "colab": {
          "base_uri": "https://localhost:8080/"
        },
        "id": "67c9d522-3f47-4e62-82b3-a6b102121326",
        "outputId": "6b49902f-f8ff-47e0-a0b2-45b34f354278"
      },
      "outputs": [
        {
          "output_type": "stream",
          "name": "stdout",
          "text": [
            "<class 'pandas.core.frame.DataFrame'>\n",
            "RangeIndex: 19237 entries, 0 to 19236\n",
            "Data columns (total 18 columns):\n",
            " #   Column            Non-Null Count  Dtype  \n",
            "---  ------            --------------  -----  \n",
            " 0   ID                19237 non-null  int64  \n",
            " 1   Price             19237 non-null  int64  \n",
            " 2   Levy              19237 non-null  object \n",
            " 3   Manufacturer      19237 non-null  object \n",
            " 4   Model             19237 non-null  object \n",
            " 5   Prod. year        19237 non-null  int64  \n",
            " 6   Category          19237 non-null  object \n",
            " 7   Leather interior  19237 non-null  object \n",
            " 8   Fuel type         19237 non-null  object \n",
            " 9   Engine volume     19237 non-null  object \n",
            " 10  Mileage           19237 non-null  object \n",
            " 11  Cylinders         19237 non-null  float64\n",
            " 12  Gear box type     19237 non-null  object \n",
            " 13  Drive wheels      19237 non-null  object \n",
            " 14  Doors             19237 non-null  object \n",
            " 15  Wheel             19237 non-null  object \n",
            " 16  Color             19237 non-null  object \n",
            " 17  Airbags           19237 non-null  int64  \n",
            "dtypes: float64(1), int64(4), object(13)\n",
            "memory usage: 2.6+ MB\n"
          ]
        }
      ],
      "source": [
        "data.info()"
      ]
    },
    {
      "cell_type": "markdown",
      "source": [
        "#### Как мы видим в датасете нет пропусков, имеются бесполезные столбцы, а также большинство признаков имеют тип данных object, их нужно привести к числовому типу"
      ],
      "metadata": {
        "id": "Sd6rfOuvRGF5"
      },
      "id": "Sd6rfOuvRGF5"
    },
    {
      "cell_type": "markdown",
      "id": "3aa2b3ff-78a1-48a7-9686-b346cffd7104",
      "metadata": {
        "id": "3aa2b3ff-78a1-48a7-9686-b346cffd7104"
      },
      "source": [
        "#### Признак ID не вносит никакой полезной информации для нас, поэтому его стоит удалить"
      ]
    },
    {
      "cell_type": "code",
      "execution_count": 38,
      "id": "9db33fb0-a511-4059-a15f-52518b50e71b",
      "metadata": {
        "id": "9db33fb0-a511-4059-a15f-52518b50e71b"
      },
      "outputs": [],
      "source": [
        "data.drop(columns=['ID'], inplace=True)"
      ]
    },
    {
      "cell_type": "markdown",
      "id": "26cd7594-65b8-4495-9df0-273c22b482e4",
      "metadata": {
        "id": "26cd7594-65b8-4495-9df0-273c22b482e4"
      },
      "source": [
        "### 1.2 Преобразование столбцов к числовому типу"
      ]
    },
    {
      "cell_type": "markdown",
      "id": "a0474dde-e413-41c8-bf81-047e442a6852",
      "metadata": {
        "id": "a0474dde-e413-41c8-bf81-047e442a6852"
      },
      "source": [
        "#### 1) Сначала преобразуем столбцы, где основную информацию несут цифры(engine volume, mileage doors), путем удаления лишних слов"
      ]
    },
    {
      "cell_type": "code",
      "execution_count": 39,
      "id": "88d05c7d-2b72-4786-86f8-750257f43391",
      "metadata": {
        "id": "88d05c7d-2b72-4786-86f8-750257f43391"
      },
      "outputs": [],
      "source": [
        "def vol(value):\n",
        "    return float(value[:3])\n",
        "data['Engine volume'] = data['Engine volume'].apply(vol)"
      ]
    },
    {
      "cell_type": "code",
      "execution_count": 40,
      "id": "7748e1c1-ab03-4b9e-832f-560f3e133dba",
      "metadata": {
        "id": "7748e1c1-ab03-4b9e-832f-560f3e133dba"
      },
      "outputs": [],
      "source": [
        "def mil(value):\n",
        "    return float(value[:-3])\n",
        "data['Mileage'] = data['Mileage'].apply(mil)"
      ]
    },
    {
      "cell_type": "code",
      "execution_count": 41,
      "id": "e9a07f17-8b49-4890-8293-3a5651ad2452",
      "metadata": {
        "id": "e9a07f17-8b49-4890-8293-3a5651ad2452"
      },
      "outputs": [],
      "source": [
        "def do(value):\n",
        "    return int(value[1])\n",
        "data['Doors'] = data['Doors'].apply(do)"
      ]
    },
    {
      "cell_type": "code",
      "execution_count": 42,
      "id": "3b10f969-1a6e-48f8-9d67-ce7b46cccb21",
      "metadata": {
        "id": "3b10f969-1a6e-48f8-9d67-ce7b46cccb21"
      },
      "outputs": [],
      "source": [
        "def lev(value):\n",
        "    if value == '-':\n",
        "        value = 0\n",
        "    return int(value)\n",
        "data['Levy'] = data['Levy'].apply(lev)"
      ]
    },
    {
      "cell_type": "code",
      "execution_count": 43,
      "id": "e70ac4e5-7b3f-40a8-b7e7-c3c3712cfdb5",
      "metadata": {
        "id": "e70ac4e5-7b3f-40a8-b7e7-c3c3712cfdb5"
      },
      "outputs": [],
      "source": [
        "#data['Price'] += data['Levy']"
      ]
    },
    {
      "cell_type": "code",
      "execution_count": 44,
      "id": "40e0d437-87d7-4881-a634-d5057e4fc658",
      "metadata": {
        "id": "40e0d437-87d7-4881-a634-d5057e4fc658"
      },
      "outputs": [],
      "source": [
        "#data.drop(columns=['Levy'], inplace=True)"
      ]
    },
    {
      "cell_type": "markdown",
      "id": "69040329-6989-4edb-b532-4767221ac6bc",
      "metadata": {
        "id": "69040329-6989-4edb-b532-4767221ac6bc"
      },
      "source": [
        "#### 2) Далее поработаем с столбцами, где данные придется кодировать"
      ]
    },
    {
      "cell_type": "code",
      "execution_count": 45,
      "id": "2bc8a775-42f5-4db1-b822-e54f9173c61b",
      "metadata": {
        "id": "2bc8a775-42f5-4db1-b822-e54f9173c61b"
      },
      "outputs": [],
      "source": [
        "from sklearn.preprocessing import LabelEncoder\n",
        "\n",
        "le = LabelEncoder()\n",
        "data['Leather interior'] = le.fit_transform(data['Leather interior'])"
      ]
    },
    {
      "cell_type": "markdown",
      "id": "c5e0fd1e-29a0-4280-9fc6-c05184ffc3d6",
      "metadata": {
        "id": "c5e0fd1e-29a0-4280-9fc6-c05184ffc3d6"
      },
      "source": [
        "#### 3) Теперь же мы будем работать с one hot encoder"
      ]
    },
    {
      "cell_type": "markdown",
      "source": [
        " #### Однако у таких столбцов, как \"Manufacturer\" и \"Model\" есть большое число уникальных значений, то в связке с one hot кодированием будет большое число столбцов, что не очень хорошо для хорошей работы моделей, поэтому возьмем только самые популярные элементы"
      ],
      "metadata": {
        "id": "OlWv8sxGSaAR"
      },
      "id": "OlWv8sxGSaAR"
    },
    {
      "cell_type": "code",
      "execution_count": 46,
      "id": "741469af-699f-4643-aedd-b36ea70012d8",
      "metadata": {
        "colab": {
          "base_uri": "https://localhost:8080/"
        },
        "id": "741469af-699f-4643-aedd-b36ea70012d8",
        "outputId": "1778fbd6-aff9-44de-d1c9-65ab56bb3b56"
      },
      "outputs": [
        {
          "output_type": "execute_result",
          "data": {
            "text/plain": [
              "Index(['HYUNDAI', 'TOYOTA', 'MERCEDES-BENZ', 'FORD', 'CHEVROLET', 'BMW',\n",
              "       'LEXUS', 'HONDA', 'NISSAN', 'VOLKSWAGEN', 'SSANGYONG', 'KIA', 'OPEL',\n",
              "       'MITSUBISHI', 'SUBARU', 'AUDI', 'MAZDA', 'JEEP', 'DAEWOO', 'DODGE',\n",
              "       'FIAT', 'SUZUKI', 'PORSCHE', 'LAND ROVER', 'VAZ', 'MINI', 'JAGUAR',\n",
              "       'RENAULT', 'INFINITI'],\n",
              "      dtype='object', name='Manufacturer')"
            ]
          },
          "metadata": {},
          "execution_count": 46
        }
      ],
      "source": [
        "#возьмем те марки, у которых есть хотя бы 30 машин\n",
        "manufact_list = data['Manufacturer'].value_counts()[:29].index\n",
        "manufact_list"
      ]
    },
    {
      "cell_type": "code",
      "execution_count": 47,
      "id": "9a66a956-950c-4ee3-80fb-c975ea87196f",
      "metadata": {
        "colab": {
          "base_uri": "https://localhost:8080/",
          "height": 490
        },
        "id": "9a66a956-950c-4ee3-80fb-c975ea87196f",
        "outputId": "647f48d1-ef90-454d-ac13-b6657813d506"
      },
      "outputs": [
        {
          "output_type": "execute_result",
          "data": {
            "text/plain": [
              "Model\n",
              "Prius        1083\n",
              "Sonata       1079\n",
              "Camry         938\n",
              "Elantra       922\n",
              "E 350         542\n",
              "             ... \n",
              "GLE 350        55\n",
              "Accent         54\n",
              "Outlander      54\n",
              "C-MAX          53\n",
              "XV             51\n",
              "Name: count, Length: 64, dtype: int64"
            ],
            "text/html": [
              "<div>\n",
              "<style scoped>\n",
              "    .dataframe tbody tr th:only-of-type {\n",
              "        vertical-align: middle;\n",
              "    }\n",
              "\n",
              "    .dataframe tbody tr th {\n",
              "        vertical-align: top;\n",
              "    }\n",
              "\n",
              "    .dataframe thead th {\n",
              "        text-align: right;\n",
              "    }\n",
              "</style>\n",
              "<table border=\"1\" class=\"dataframe\">\n",
              "  <thead>\n",
              "    <tr style=\"text-align: right;\">\n",
              "      <th></th>\n",
              "      <th>count</th>\n",
              "    </tr>\n",
              "    <tr>\n",
              "      <th>Model</th>\n",
              "      <th></th>\n",
              "    </tr>\n",
              "  </thead>\n",
              "  <tbody>\n",
              "    <tr>\n",
              "      <th>Prius</th>\n",
              "      <td>1083</td>\n",
              "    </tr>\n",
              "    <tr>\n",
              "      <th>Sonata</th>\n",
              "      <td>1079</td>\n",
              "    </tr>\n",
              "    <tr>\n",
              "      <th>Camry</th>\n",
              "      <td>938</td>\n",
              "    </tr>\n",
              "    <tr>\n",
              "      <th>Elantra</th>\n",
              "      <td>922</td>\n",
              "    </tr>\n",
              "    <tr>\n",
              "      <th>E 350</th>\n",
              "      <td>542</td>\n",
              "    </tr>\n",
              "    <tr>\n",
              "      <th>...</th>\n",
              "      <td>...</td>\n",
              "    </tr>\n",
              "    <tr>\n",
              "      <th>GLE 350</th>\n",
              "      <td>55</td>\n",
              "    </tr>\n",
              "    <tr>\n",
              "      <th>Accent</th>\n",
              "      <td>54</td>\n",
              "    </tr>\n",
              "    <tr>\n",
              "      <th>Outlander</th>\n",
              "      <td>54</td>\n",
              "    </tr>\n",
              "    <tr>\n",
              "      <th>C-MAX</th>\n",
              "      <td>53</td>\n",
              "    </tr>\n",
              "    <tr>\n",
              "      <th>XV</th>\n",
              "      <td>51</td>\n",
              "    </tr>\n",
              "  </tbody>\n",
              "</table>\n",
              "<p>64 rows × 1 columns</p>\n",
              "</div><br><label><b>dtype:</b> int64</label>"
            ]
          },
          "metadata": {},
          "execution_count": 47
        }
      ],
      "source": [
        "# возьмем модели, которые есть хотя бы в 50 экземплярах\n",
        "model_list = data['Model'].value_counts()[:64].index\n",
        "model_list"
      ]
    },
    {
      "cell_type": "code",
      "execution_count": 48,
      "id": "6dd82af4-79cd-437c-a3d4-5ca8eb730a4a",
      "metadata": {
        "id": "6dd82af4-79cd-437c-a3d4-5ca8eb730a4a"
      },
      "outputs": [],
      "source": [
        "def man(value):\n",
        "    if value in manufact_list:\n",
        "        return value\n",
        "    else:\n",
        "        return '-'\n",
        "data['Manufacturer'] = data['Manufacturer'].apply(man)"
      ]
    },
    {
      "cell_type": "code",
      "execution_count": 49,
      "id": "d4e8ed69-b2dc-46f3-951d-ba6d306491d4",
      "metadata": {
        "id": "d4e8ed69-b2dc-46f3-951d-ba6d306491d4"
      },
      "outputs": [],
      "source": [
        "def mod(value):\n",
        "    if value in model_list:\n",
        "        return value\n",
        "    else:\n",
        "        return '-'\n",
        "data['Model'] = data['Model'].apply(mod)"
      ]
    },
    {
      "cell_type": "code",
      "execution_count": 50,
      "id": "6f8a0628-a95e-431f-9a39-de8825eba264",
      "metadata": {
        "id": "6f8a0628-a95e-431f-9a39-de8825eba264"
      },
      "outputs": [],
      "source": [
        "# выкинем строки с не популярными model или manufacturer\n",
        "data = data[(data['Model'] != '-') & (data['Manufacturer'] != '-')]"
      ]
    },
    {
      "cell_type": "markdown",
      "source": [
        "#### Для большего удобства разделим нашу таблицу на 2: с числовыми признаками, а также с категориальными"
      ],
      "metadata": {
        "id": "I6iO1AJhTZd1"
      },
      "id": "I6iO1AJhTZd1"
    },
    {
      "cell_type": "code",
      "execution_count": 51,
      "id": "c30d8f1c-b775-4901-b54b-17725fafa1ee",
      "metadata": {
        "id": "c30d8f1c-b775-4901-b54b-17725fafa1ee"
      },
      "outputs": [],
      "source": [
        "mask = (data.dtypes == object).values\n",
        "cat_features = data[data.columns[mask]]\n",
        "real_features = data[data.columns[~mask]]"
      ]
    },
    {
      "cell_type": "code",
      "execution_count": 77,
      "id": "b0152536-0b12-4d50-af79-4e68505effca",
      "metadata": {
        "id": "b0152536-0b12-4d50-af79-4e68505effca"
      },
      "outputs": [],
      "source": [
        "cat_features_cod = pd.get_dummies(cat_features, drop_first=True, dtype=int)"
      ]
    },
    {
      "cell_type": "code",
      "execution_count": 78,
      "id": "3af019b4-ef71-47f1-8dd9-5d549c57b3ee",
      "metadata": {
        "id": "3af019b4-ef71-47f1-8dd9-5d549c57b3ee"
      },
      "outputs": [],
      "source": [
        "data_go = pd.concat([cat_features_cod, real_features], axis=1)"
      ]
    },
    {
      "cell_type": "code",
      "execution_count": 79,
      "id": "57d33d2e-6a49-4eb6-b6bf-4809e1f48688",
      "metadata": {
        "colab": {
          "base_uri": "https://localhost:8080/",
          "height": 461
        },
        "id": "57d33d2e-6a49-4eb6-b6bf-4809e1f48688",
        "outputId": "2e7c97aa-1c14-469a-a02d-9612c5c7bf8d"
      },
      "outputs": [
        {
          "output_type": "execute_result",
          "data": {
            "text/plain": [
              "       Manufacturer_BMW  Manufacturer_CHEVROLET  Manufacturer_DAEWOO  \\\n",
              "0                     0                       0                    0   \n",
              "2                     0                       0                    0   \n",
              "3                     0                       0                    0   \n",
              "4                     0                       0                    0   \n",
              "5                     0                       0                    0   \n",
              "...                 ...                     ...                  ...   \n",
              "19231                 0                       0                    0   \n",
              "19233                 0                       0                    0   \n",
              "19234                 0                       0                    0   \n",
              "19235                 0                       1                    0   \n",
              "19236                 0                       0                    0   \n",
              "\n",
              "       Manufacturer_FORD  Manufacturer_HONDA  Manufacturer_HYUNDAI  \\\n",
              "0                      0                   0                     0   \n",
              "2                      0                   1                     0   \n",
              "3                      1                   0                     0   \n",
              "4                      0                   1                     0   \n",
              "5                      0                   0                     1   \n",
              "...                  ...                 ...                   ...   \n",
              "19231                  0                   0                     0   \n",
              "19233                  0                   0                     1   \n",
              "19234                  0                   0                     1   \n",
              "19235                  0                   0                     0   \n",
              "19236                  0                   0                     1   \n",
              "\n",
              "       Manufacturer_KIA  Manufacturer_LEXUS  Manufacturer_MERCEDES-BENZ  \\\n",
              "0                     0                   1                           0   \n",
              "2                     0                   0                           0   \n",
              "3                     0                   0                           0   \n",
              "4                     0                   0                           0   \n",
              "5                     0                   0                           0   \n",
              "...                 ...                 ...                         ...   \n",
              "19231                 0                   0                           1   \n",
              "19233                 0                   0                           0   \n",
              "19234                 0                   0                           0   \n",
              "19235                 0                   0                           0   \n",
              "19236                 0                   0                           0   \n",
              "\n",
              "       Manufacturer_MITSUBISHI  ...  Color_Yellow  Price  Levy  Prod. year  \\\n",
              "0                            0  ...             0  13328  1399        2010   \n",
              "2                            0  ...             0   8467     0        2006   \n",
              "3                            0  ...             0   3607   862        2011   \n",
              "4                            0  ...             0  11726   446        2014   \n",
              "5                            0  ...             0  39493   891        2016   \n",
              "...                        ...  ...           ...    ...   ...         ...   \n",
              "19231                        0  ...             0   5802  1055        2013   \n",
              "19233                        0  ...             0  15681   831        2011   \n",
              "19234                        0  ...             0  26108   836        2010   \n",
              "19235                        0  ...             0   5331  1288        2007   \n",
              "19236                        0  ...             0    470   753        2012   \n",
              "\n",
              "       Leather interior  Engine volume   Mileage  Cylinders  Doors  Airbags  \n",
              "0                     1            3.5  186005.0        6.0      4       12  \n",
              "2                     0            1.3  200000.0        4.0      4        2  \n",
              "3                     1            2.5  168966.0        4.0      4        0  \n",
              "4                     1            1.3   91901.0        4.0      4        4  \n",
              "5                     1            2.0  160931.0        4.0      4        4  \n",
              "...                 ...            ...       ...        ...    ...      ...  \n",
              "19231                 1            3.5  107800.0        6.0      4       12  \n",
              "19233                 1            2.4  161600.0        4.0      4        8  \n",
              "19234                 1            2.0  116365.0        4.0      4        4  \n",
              "19235                 1            2.0   51258.0        4.0      4        4  \n",
              "19236                 1            2.4  186923.0        4.0      4       12  \n",
              "\n",
              "[13439 rows x 123 columns]"
            ],
            "text/html": [
              "\n",
              "  <div id=\"df-5cb6403e-b9f4-4d28-8189-82fb827f173b\" class=\"colab-df-container\">\n",
              "    <div>\n",
              "<style scoped>\n",
              "    .dataframe tbody tr th:only-of-type {\n",
              "        vertical-align: middle;\n",
              "    }\n",
              "\n",
              "    .dataframe tbody tr th {\n",
              "        vertical-align: top;\n",
              "    }\n",
              "\n",
              "    .dataframe thead th {\n",
              "        text-align: right;\n",
              "    }\n",
              "</style>\n",
              "<table border=\"1\" class=\"dataframe\">\n",
              "  <thead>\n",
              "    <tr style=\"text-align: right;\">\n",
              "      <th></th>\n",
              "      <th>Manufacturer_BMW</th>\n",
              "      <th>Manufacturer_CHEVROLET</th>\n",
              "      <th>Manufacturer_DAEWOO</th>\n",
              "      <th>Manufacturer_FORD</th>\n",
              "      <th>Manufacturer_HONDA</th>\n",
              "      <th>Manufacturer_HYUNDAI</th>\n",
              "      <th>Manufacturer_KIA</th>\n",
              "      <th>Manufacturer_LEXUS</th>\n",
              "      <th>Manufacturer_MERCEDES-BENZ</th>\n",
              "      <th>Manufacturer_MITSUBISHI</th>\n",
              "      <th>...</th>\n",
              "      <th>Color_Yellow</th>\n",
              "      <th>Price</th>\n",
              "      <th>Levy</th>\n",
              "      <th>Prod. year</th>\n",
              "      <th>Leather interior</th>\n",
              "      <th>Engine volume</th>\n",
              "      <th>Mileage</th>\n",
              "      <th>Cylinders</th>\n",
              "      <th>Doors</th>\n",
              "      <th>Airbags</th>\n",
              "    </tr>\n",
              "  </thead>\n",
              "  <tbody>\n",
              "    <tr>\n",
              "      <th>0</th>\n",
              "      <td>0</td>\n",
              "      <td>0</td>\n",
              "      <td>0</td>\n",
              "      <td>0</td>\n",
              "      <td>0</td>\n",
              "      <td>0</td>\n",
              "      <td>0</td>\n",
              "      <td>1</td>\n",
              "      <td>0</td>\n",
              "      <td>0</td>\n",
              "      <td>...</td>\n",
              "      <td>0</td>\n",
              "      <td>13328</td>\n",
              "      <td>1399</td>\n",
              "      <td>2010</td>\n",
              "      <td>1</td>\n",
              "      <td>3.5</td>\n",
              "      <td>186005.0</td>\n",
              "      <td>6.0</td>\n",
              "      <td>4</td>\n",
              "      <td>12</td>\n",
              "    </tr>\n",
              "    <tr>\n",
              "      <th>2</th>\n",
              "      <td>0</td>\n",
              "      <td>0</td>\n",
              "      <td>0</td>\n",
              "      <td>0</td>\n",
              "      <td>1</td>\n",
              "      <td>0</td>\n",
              "      <td>0</td>\n",
              "      <td>0</td>\n",
              "      <td>0</td>\n",
              "      <td>0</td>\n",
              "      <td>...</td>\n",
              "      <td>0</td>\n",
              "      <td>8467</td>\n",
              "      <td>0</td>\n",
              "      <td>2006</td>\n",
              "      <td>0</td>\n",
              "      <td>1.3</td>\n",
              "      <td>200000.0</td>\n",
              "      <td>4.0</td>\n",
              "      <td>4</td>\n",
              "      <td>2</td>\n",
              "    </tr>\n",
              "    <tr>\n",
              "      <th>3</th>\n",
              "      <td>0</td>\n",
              "      <td>0</td>\n",
              "      <td>0</td>\n",
              "      <td>1</td>\n",
              "      <td>0</td>\n",
              "      <td>0</td>\n",
              "      <td>0</td>\n",
              "      <td>0</td>\n",
              "      <td>0</td>\n",
              "      <td>0</td>\n",
              "      <td>...</td>\n",
              "      <td>0</td>\n",
              "      <td>3607</td>\n",
              "      <td>862</td>\n",
              "      <td>2011</td>\n",
              "      <td>1</td>\n",
              "      <td>2.5</td>\n",
              "      <td>168966.0</td>\n",
              "      <td>4.0</td>\n",
              "      <td>4</td>\n",
              "      <td>0</td>\n",
              "    </tr>\n",
              "    <tr>\n",
              "      <th>4</th>\n",
              "      <td>0</td>\n",
              "      <td>0</td>\n",
              "      <td>0</td>\n",
              "      <td>0</td>\n",
              "      <td>1</td>\n",
              "      <td>0</td>\n",
              "      <td>0</td>\n",
              "      <td>0</td>\n",
              "      <td>0</td>\n",
              "      <td>0</td>\n",
              "      <td>...</td>\n",
              "      <td>0</td>\n",
              "      <td>11726</td>\n",
              "      <td>446</td>\n",
              "      <td>2014</td>\n",
              "      <td>1</td>\n",
              "      <td>1.3</td>\n",
              "      <td>91901.0</td>\n",
              "      <td>4.0</td>\n",
              "      <td>4</td>\n",
              "      <td>4</td>\n",
              "    </tr>\n",
              "    <tr>\n",
              "      <th>5</th>\n",
              "      <td>0</td>\n",
              "      <td>0</td>\n",
              "      <td>0</td>\n",
              "      <td>0</td>\n",
              "      <td>0</td>\n",
              "      <td>1</td>\n",
              "      <td>0</td>\n",
              "      <td>0</td>\n",
              "      <td>0</td>\n",
              "      <td>0</td>\n",
              "      <td>...</td>\n",
              "      <td>0</td>\n",
              "      <td>39493</td>\n",
              "      <td>891</td>\n",
              "      <td>2016</td>\n",
              "      <td>1</td>\n",
              "      <td>2.0</td>\n",
              "      <td>160931.0</td>\n",
              "      <td>4.0</td>\n",
              "      <td>4</td>\n",
              "      <td>4</td>\n",
              "    </tr>\n",
              "    <tr>\n",
              "      <th>...</th>\n",
              "      <td>...</td>\n",
              "      <td>...</td>\n",
              "      <td>...</td>\n",
              "      <td>...</td>\n",
              "      <td>...</td>\n",
              "      <td>...</td>\n",
              "      <td>...</td>\n",
              "      <td>...</td>\n",
              "      <td>...</td>\n",
              "      <td>...</td>\n",
              "      <td>...</td>\n",
              "      <td>...</td>\n",
              "      <td>...</td>\n",
              "      <td>...</td>\n",
              "      <td>...</td>\n",
              "      <td>...</td>\n",
              "      <td>...</td>\n",
              "      <td>...</td>\n",
              "      <td>...</td>\n",
              "      <td>...</td>\n",
              "      <td>...</td>\n",
              "    </tr>\n",
              "    <tr>\n",
              "      <th>19231</th>\n",
              "      <td>0</td>\n",
              "      <td>0</td>\n",
              "      <td>0</td>\n",
              "      <td>0</td>\n",
              "      <td>0</td>\n",
              "      <td>0</td>\n",
              "      <td>0</td>\n",
              "      <td>0</td>\n",
              "      <td>1</td>\n",
              "      <td>0</td>\n",
              "      <td>...</td>\n",
              "      <td>0</td>\n",
              "      <td>5802</td>\n",
              "      <td>1055</td>\n",
              "      <td>2013</td>\n",
              "      <td>1</td>\n",
              "      <td>3.5</td>\n",
              "      <td>107800.0</td>\n",
              "      <td>6.0</td>\n",
              "      <td>4</td>\n",
              "      <td>12</td>\n",
              "    </tr>\n",
              "    <tr>\n",
              "      <th>19233</th>\n",
              "      <td>0</td>\n",
              "      <td>0</td>\n",
              "      <td>0</td>\n",
              "      <td>0</td>\n",
              "      <td>0</td>\n",
              "      <td>1</td>\n",
              "      <td>0</td>\n",
              "      <td>0</td>\n",
              "      <td>0</td>\n",
              "      <td>0</td>\n",
              "      <td>...</td>\n",
              "      <td>0</td>\n",
              "      <td>15681</td>\n",
              "      <td>831</td>\n",
              "      <td>2011</td>\n",
              "      <td>1</td>\n",
              "      <td>2.4</td>\n",
              "      <td>161600.0</td>\n",
              "      <td>4.0</td>\n",
              "      <td>4</td>\n",
              "      <td>8</td>\n",
              "    </tr>\n",
              "    <tr>\n",
              "      <th>19234</th>\n",
              "      <td>0</td>\n",
              "      <td>0</td>\n",
              "      <td>0</td>\n",
              "      <td>0</td>\n",
              "      <td>0</td>\n",
              "      <td>1</td>\n",
              "      <td>0</td>\n",
              "      <td>0</td>\n",
              "      <td>0</td>\n",
              "      <td>0</td>\n",
              "      <td>...</td>\n",
              "      <td>0</td>\n",
              "      <td>26108</td>\n",
              "      <td>836</td>\n",
              "      <td>2010</td>\n",
              "      <td>1</td>\n",
              "      <td>2.0</td>\n",
              "      <td>116365.0</td>\n",
              "      <td>4.0</td>\n",
              "      <td>4</td>\n",
              "      <td>4</td>\n",
              "    </tr>\n",
              "    <tr>\n",
              "      <th>19235</th>\n",
              "      <td>0</td>\n",
              "      <td>1</td>\n",
              "      <td>0</td>\n",
              "      <td>0</td>\n",
              "      <td>0</td>\n",
              "      <td>0</td>\n",
              "      <td>0</td>\n",
              "      <td>0</td>\n",
              "      <td>0</td>\n",
              "      <td>0</td>\n",
              "      <td>...</td>\n",
              "      <td>0</td>\n",
              "      <td>5331</td>\n",
              "      <td>1288</td>\n",
              "      <td>2007</td>\n",
              "      <td>1</td>\n",
              "      <td>2.0</td>\n",
              "      <td>51258.0</td>\n",
              "      <td>4.0</td>\n",
              "      <td>4</td>\n",
              "      <td>4</td>\n",
              "    </tr>\n",
              "    <tr>\n",
              "      <th>19236</th>\n",
              "      <td>0</td>\n",
              "      <td>0</td>\n",
              "      <td>0</td>\n",
              "      <td>0</td>\n",
              "      <td>0</td>\n",
              "      <td>1</td>\n",
              "      <td>0</td>\n",
              "      <td>0</td>\n",
              "      <td>0</td>\n",
              "      <td>0</td>\n",
              "      <td>...</td>\n",
              "      <td>0</td>\n",
              "      <td>470</td>\n",
              "      <td>753</td>\n",
              "      <td>2012</td>\n",
              "      <td>1</td>\n",
              "      <td>2.4</td>\n",
              "      <td>186923.0</td>\n",
              "      <td>4.0</td>\n",
              "      <td>4</td>\n",
              "      <td>12</td>\n",
              "    </tr>\n",
              "  </tbody>\n",
              "</table>\n",
              "<p>13439 rows × 123 columns</p>\n",
              "</div>\n",
              "    <div class=\"colab-df-buttons\">\n",
              "\n",
              "  <div class=\"colab-df-container\">\n",
              "    <button class=\"colab-df-convert\" onclick=\"convertToInteractive('df-5cb6403e-b9f4-4d28-8189-82fb827f173b')\"\n",
              "            title=\"Convert this dataframe to an interactive table.\"\n",
              "            style=\"display:none;\">\n",
              "\n",
              "  <svg xmlns=\"http://www.w3.org/2000/svg\" height=\"24px\" viewBox=\"0 -960 960 960\">\n",
              "    <path d=\"M120-120v-720h720v720H120Zm60-500h600v-160H180v160Zm220 220h160v-160H400v160Zm0 220h160v-160H400v160ZM180-400h160v-160H180v160Zm440 0h160v-160H620v160ZM180-180h160v-160H180v160Zm440 0h160v-160H620v160Z\"/>\n",
              "  </svg>\n",
              "    </button>\n",
              "\n",
              "  <style>\n",
              "    .colab-df-container {\n",
              "      display:flex;\n",
              "      gap: 12px;\n",
              "    }\n",
              "\n",
              "    .colab-df-convert {\n",
              "      background-color: #E8F0FE;\n",
              "      border: none;\n",
              "      border-radius: 50%;\n",
              "      cursor: pointer;\n",
              "      display: none;\n",
              "      fill: #1967D2;\n",
              "      height: 32px;\n",
              "      padding: 0 0 0 0;\n",
              "      width: 32px;\n",
              "    }\n",
              "\n",
              "    .colab-df-convert:hover {\n",
              "      background-color: #E2EBFA;\n",
              "      box-shadow: 0px 1px 2px rgba(60, 64, 67, 0.3), 0px 1px 3px 1px rgba(60, 64, 67, 0.15);\n",
              "      fill: #174EA6;\n",
              "    }\n",
              "\n",
              "    .colab-df-buttons div {\n",
              "      margin-bottom: 4px;\n",
              "    }\n",
              "\n",
              "    [theme=dark] .colab-df-convert {\n",
              "      background-color: #3B4455;\n",
              "      fill: #D2E3FC;\n",
              "    }\n",
              "\n",
              "    [theme=dark] .colab-df-convert:hover {\n",
              "      background-color: #434B5C;\n",
              "      box-shadow: 0px 1px 3px 1px rgba(0, 0, 0, 0.15);\n",
              "      filter: drop-shadow(0px 1px 2px rgba(0, 0, 0, 0.3));\n",
              "      fill: #FFFFFF;\n",
              "    }\n",
              "  </style>\n",
              "\n",
              "    <script>\n",
              "      const buttonEl =\n",
              "        document.querySelector('#df-5cb6403e-b9f4-4d28-8189-82fb827f173b button.colab-df-convert');\n",
              "      buttonEl.style.display =\n",
              "        google.colab.kernel.accessAllowed ? 'block' : 'none';\n",
              "\n",
              "      async function convertToInteractive(key) {\n",
              "        const element = document.querySelector('#df-5cb6403e-b9f4-4d28-8189-82fb827f173b');\n",
              "        const dataTable =\n",
              "          await google.colab.kernel.invokeFunction('convertToInteractive',\n",
              "                                                    [key], {});\n",
              "        if (!dataTable) return;\n",
              "\n",
              "        const docLinkHtml = 'Like what you see? Visit the ' +\n",
              "          '<a target=\"_blank\" href=https://colab.research.google.com/notebooks/data_table.ipynb>data table notebook</a>'\n",
              "          + ' to learn more about interactive tables.';\n",
              "        element.innerHTML = '';\n",
              "        dataTable['output_type'] = 'display_data';\n",
              "        await google.colab.output.renderOutput(dataTable, element);\n",
              "        const docLink = document.createElement('div');\n",
              "        docLink.innerHTML = docLinkHtml;\n",
              "        element.appendChild(docLink);\n",
              "      }\n",
              "    </script>\n",
              "  </div>\n",
              "\n",
              "\n",
              "<div id=\"df-32b3e975-8cac-4785-b422-90ff9a3347e6\">\n",
              "  <button class=\"colab-df-quickchart\" onclick=\"quickchart('df-32b3e975-8cac-4785-b422-90ff9a3347e6')\"\n",
              "            title=\"Suggest charts\"\n",
              "            style=\"display:none;\">\n",
              "\n",
              "<svg xmlns=\"http://www.w3.org/2000/svg\" height=\"24px\"viewBox=\"0 0 24 24\"\n",
              "     width=\"24px\">\n",
              "    <g>\n",
              "        <path d=\"M19 3H5c-1.1 0-2 .9-2 2v14c0 1.1.9 2 2 2h14c1.1 0 2-.9 2-2V5c0-1.1-.9-2-2-2zM9 17H7v-7h2v7zm4 0h-2V7h2v10zm4 0h-2v-4h2v4z\"/>\n",
              "    </g>\n",
              "</svg>\n",
              "  </button>\n",
              "\n",
              "<style>\n",
              "  .colab-df-quickchart {\n",
              "      --bg-color: #E8F0FE;\n",
              "      --fill-color: #1967D2;\n",
              "      --hover-bg-color: #E2EBFA;\n",
              "      --hover-fill-color: #174EA6;\n",
              "      --disabled-fill-color: #AAA;\n",
              "      --disabled-bg-color: #DDD;\n",
              "  }\n",
              "\n",
              "  [theme=dark] .colab-df-quickchart {\n",
              "      --bg-color: #3B4455;\n",
              "      --fill-color: #D2E3FC;\n",
              "      --hover-bg-color: #434B5C;\n",
              "      --hover-fill-color: #FFFFFF;\n",
              "      --disabled-bg-color: #3B4455;\n",
              "      --disabled-fill-color: #666;\n",
              "  }\n",
              "\n",
              "  .colab-df-quickchart {\n",
              "    background-color: var(--bg-color);\n",
              "    border: none;\n",
              "    border-radius: 50%;\n",
              "    cursor: pointer;\n",
              "    display: none;\n",
              "    fill: var(--fill-color);\n",
              "    height: 32px;\n",
              "    padding: 0;\n",
              "    width: 32px;\n",
              "  }\n",
              "\n",
              "  .colab-df-quickchart:hover {\n",
              "    background-color: var(--hover-bg-color);\n",
              "    box-shadow: 0 1px 2px rgba(60, 64, 67, 0.3), 0 1px 3px 1px rgba(60, 64, 67, 0.15);\n",
              "    fill: var(--button-hover-fill-color);\n",
              "  }\n",
              "\n",
              "  .colab-df-quickchart-complete:disabled,\n",
              "  .colab-df-quickchart-complete:disabled:hover {\n",
              "    background-color: var(--disabled-bg-color);\n",
              "    fill: var(--disabled-fill-color);\n",
              "    box-shadow: none;\n",
              "  }\n",
              "\n",
              "  .colab-df-spinner {\n",
              "    border: 2px solid var(--fill-color);\n",
              "    border-color: transparent;\n",
              "    border-bottom-color: var(--fill-color);\n",
              "    animation:\n",
              "      spin 1s steps(1) infinite;\n",
              "  }\n",
              "\n",
              "  @keyframes spin {\n",
              "    0% {\n",
              "      border-color: transparent;\n",
              "      border-bottom-color: var(--fill-color);\n",
              "      border-left-color: var(--fill-color);\n",
              "    }\n",
              "    20% {\n",
              "      border-color: transparent;\n",
              "      border-left-color: var(--fill-color);\n",
              "      border-top-color: var(--fill-color);\n",
              "    }\n",
              "    30% {\n",
              "      border-color: transparent;\n",
              "      border-left-color: var(--fill-color);\n",
              "      border-top-color: var(--fill-color);\n",
              "      border-right-color: var(--fill-color);\n",
              "    }\n",
              "    40% {\n",
              "      border-color: transparent;\n",
              "      border-right-color: var(--fill-color);\n",
              "      border-top-color: var(--fill-color);\n",
              "    }\n",
              "    60% {\n",
              "      border-color: transparent;\n",
              "      border-right-color: var(--fill-color);\n",
              "    }\n",
              "    80% {\n",
              "      border-color: transparent;\n",
              "      border-right-color: var(--fill-color);\n",
              "      border-bottom-color: var(--fill-color);\n",
              "    }\n",
              "    90% {\n",
              "      border-color: transparent;\n",
              "      border-bottom-color: var(--fill-color);\n",
              "    }\n",
              "  }\n",
              "</style>\n",
              "\n",
              "  <script>\n",
              "    async function quickchart(key) {\n",
              "      const quickchartButtonEl =\n",
              "        document.querySelector('#' + key + ' button');\n",
              "      quickchartButtonEl.disabled = true;  // To prevent multiple clicks.\n",
              "      quickchartButtonEl.classList.add('colab-df-spinner');\n",
              "      try {\n",
              "        const charts = await google.colab.kernel.invokeFunction(\n",
              "            'suggestCharts', [key], {});\n",
              "      } catch (error) {\n",
              "        console.error('Error during call to suggestCharts:', error);\n",
              "      }\n",
              "      quickchartButtonEl.classList.remove('colab-df-spinner');\n",
              "      quickchartButtonEl.classList.add('colab-df-quickchart-complete');\n",
              "    }\n",
              "    (() => {\n",
              "      let quickchartButtonEl =\n",
              "        document.querySelector('#df-32b3e975-8cac-4785-b422-90ff9a3347e6 button');\n",
              "      quickchartButtonEl.style.display =\n",
              "        google.colab.kernel.accessAllowed ? 'block' : 'none';\n",
              "    })();\n",
              "  </script>\n",
              "</div>\n",
              "    </div>\n",
              "  </div>\n"
            ],
            "application/vnd.google.colaboratory.intrinsic+json": {
              "type": "dataframe",
              "variable_name": "data_go"
            }
          },
          "metadata": {},
          "execution_count": 79
        }
      ],
      "source": [
        "data_go"
      ]
    },
    {
      "cell_type": "markdown",
      "source": [
        "### 1.3 Нормирование данных"
      ],
      "metadata": {
        "id": "I5-keKQnT4dI"
      },
      "id": "I5-keKQnT4dI"
    },
    {
      "cell_type": "markdown",
      "source": [
        "#### Для начала разделим наш датасет на X и y, где y это сумма price и levy(налог)"
      ],
      "metadata": {
        "id": "K3LOGvL7Tt4z"
      },
      "id": "K3LOGvL7Tt4z"
    },
    {
      "cell_type": "code",
      "execution_count": 80,
      "id": "76913336-af2c-4921-a065-3679deea76e4",
      "metadata": {
        "id": "76913336-af2c-4921-a065-3679deea76e4"
      },
      "outputs": [],
      "source": [
        "y = data_go['Price'] + data_go['Levy']\n",
        "X = data_go.drop(columns=['Price', 'Levy'])"
      ]
    },
    {
      "cell_type": "code",
      "source": [
        "from sklearn.preprocessing import StandardScaler\n",
        "\n",
        "sc = StandardScaler()\n",
        "X = pd.DataFrame(data=sc.fit_transform(X), columns = X.columns)"
      ],
      "metadata": {
        "id": "u24jTJLdAzcE"
      },
      "id": "u24jTJLdAzcE",
      "execution_count": 81,
      "outputs": []
    },
    {
      "cell_type": "code",
      "source": [
        "X"
      ],
      "metadata": {
        "colab": {
          "base_uri": "https://localhost:8080/",
          "height": 461
        },
        "id": "p3BVXxIaCevf",
        "outputId": "4d9f221c-8ecb-4272-ac3f-94453bc8d195"
      },
      "id": "p3BVXxIaCevf",
      "execution_count": 82,
      "outputs": [
        {
          "output_type": "execute_result",
          "data": {
            "text/plain": [
              "       Manufacturer_BMW  Manufacturer_CHEVROLET  Manufacturer_DAEWOO  \\\n",
              "0             -0.193908               -0.254583            -0.079782   \n",
              "1             -0.193908               -0.254583            -0.079782   \n",
              "2             -0.193908               -0.254583            -0.079782   \n",
              "3             -0.193908               -0.254583            -0.079782   \n",
              "4             -0.193908               -0.254583            -0.079782   \n",
              "...                 ...                     ...                  ...   \n",
              "13434         -0.193908               -0.254583            -0.079782   \n",
              "13435         -0.193908               -0.254583            -0.079782   \n",
              "13436         -0.193908               -0.254583            -0.079782   \n",
              "13437         -0.193908                3.927989            -0.079782   \n",
              "13438         -0.193908               -0.254583            -0.079782   \n",
              "\n",
              "       Manufacturer_FORD  Manufacturer_HONDA  Manufacturer_HYUNDAI  \\\n",
              "0              -0.250918           -0.253588             -0.600186   \n",
              "1              -0.250918            3.943411             -0.600186   \n",
              "2               3.985369           -0.253588             -0.600186   \n",
              "3              -0.250918            3.943411             -0.600186   \n",
              "4              -0.250918           -0.253588              1.666151   \n",
              "...                  ...                 ...                   ...   \n",
              "13434          -0.250918           -0.253588             -0.600186   \n",
              "13435          -0.250918           -0.253588              1.666151   \n",
              "13436          -0.250918           -0.253588              1.666151   \n",
              "13437          -0.250918           -0.253588             -0.600186   \n",
              "13438          -0.250918           -0.253588              1.666151   \n",
              "\n",
              "       Manufacturer_KIA  Manufacturer_LEXUS  Manufacturer_MERCEDES-BENZ  \\\n",
              "0             -0.132829            4.070297                   -0.303136   \n",
              "1             -0.132829           -0.245682                   -0.303136   \n",
              "2             -0.132829           -0.245682                   -0.303136   \n",
              "3             -0.132829           -0.245682                   -0.303136   \n",
              "4             -0.132829           -0.245682                   -0.303136   \n",
              "...                 ...                 ...                         ...   \n",
              "13434         -0.132829           -0.245682                    3.298849   \n",
              "13435         -0.132829           -0.245682                   -0.303136   \n",
              "13436         -0.132829           -0.245682                   -0.303136   \n",
              "13437         -0.132829           -0.245682                   -0.303136   \n",
              "13438         -0.132829           -0.245682                   -0.303136   \n",
              "\n",
              "       Manufacturer_MITSUBISHI  ...  Color_Sky blue  Color_White  \\\n",
              "0                    -0.063517  ...       -0.073392    -0.576233   \n",
              "1                    -0.063517  ...       -0.073392    -0.576233   \n",
              "2                    -0.063517  ...       -0.073392     1.735408   \n",
              "3                    -0.063517  ...       -0.073392    -0.576233   \n",
              "4                    -0.063517  ...       -0.073392     1.735408   \n",
              "...                        ...  ...             ...          ...   \n",
              "13434                -0.063517  ...       -0.073392    -0.576233   \n",
              "13435                -0.063517  ...       -0.073392    -0.576233   \n",
              "13436                -0.063517  ...       -0.073392    -0.576233   \n",
              "13437                -0.063517  ...       -0.073392    -0.576233   \n",
              "13438                -0.063517  ...       -0.073392     1.735408   \n",
              "\n",
              "       Color_Yellow  Prod. year  Leather interior  Engine volume   Mileage  \\\n",
              "0         -0.075414   -0.422606          0.548606       1.613653 -0.027342   \n",
              "1         -0.075414   -1.319259         -1.822803      -1.166200 -0.027046   \n",
              "2         -0.075414   -0.198443          0.548606       0.350084 -0.027702   \n",
              "3         -0.075414    0.474047          0.548606      -1.166200 -0.029330   \n",
              "4         -0.075414    0.922374          0.548606      -0.281701 -0.027871   \n",
              "...             ...         ...               ...            ...       ...   \n",
              "13434     -0.075414    0.249884          0.548606       1.613653 -0.028994   \n",
              "13435     -0.075414   -0.198443          0.548606       0.223727 -0.027857   \n",
              "13436     -0.075414   -0.422606          0.548606      -0.281701 -0.028813   \n",
              "13437     -0.075414   -1.095096          0.548606      -0.281701 -0.030188   \n",
              "13438     -0.075414    0.025721          0.548606       0.223727 -0.027322   \n",
              "\n",
              "       Cylinders     Doors   Airbags  \n",
              "0       1.497696  0.098715  1.296527  \n",
              "1      -0.425531  0.098715 -1.007964  \n",
              "2      -0.425531  0.098715 -1.468862  \n",
              "3      -0.425531  0.098715 -0.547066  \n",
              "4      -0.425531  0.098715 -0.547066  \n",
              "...          ...       ...       ...  \n",
              "13434   1.497696  0.098715  1.296527  \n",
              "13435  -0.425531  0.098715  0.374731  \n",
              "13436  -0.425531  0.098715 -0.547066  \n",
              "13437  -0.425531  0.098715 -0.547066  \n",
              "13438  -0.425531  0.098715  1.296527  \n",
              "\n",
              "[13439 rows x 121 columns]"
            ],
            "text/html": [
              "\n",
              "  <div id=\"df-9892b2bf-8201-4b1f-8f7b-a1f0276762ab\" class=\"colab-df-container\">\n",
              "    <div>\n",
              "<style scoped>\n",
              "    .dataframe tbody tr th:only-of-type {\n",
              "        vertical-align: middle;\n",
              "    }\n",
              "\n",
              "    .dataframe tbody tr th {\n",
              "        vertical-align: top;\n",
              "    }\n",
              "\n",
              "    .dataframe thead th {\n",
              "        text-align: right;\n",
              "    }\n",
              "</style>\n",
              "<table border=\"1\" class=\"dataframe\">\n",
              "  <thead>\n",
              "    <tr style=\"text-align: right;\">\n",
              "      <th></th>\n",
              "      <th>Manufacturer_BMW</th>\n",
              "      <th>Manufacturer_CHEVROLET</th>\n",
              "      <th>Manufacturer_DAEWOO</th>\n",
              "      <th>Manufacturer_FORD</th>\n",
              "      <th>Manufacturer_HONDA</th>\n",
              "      <th>Manufacturer_HYUNDAI</th>\n",
              "      <th>Manufacturer_KIA</th>\n",
              "      <th>Manufacturer_LEXUS</th>\n",
              "      <th>Manufacturer_MERCEDES-BENZ</th>\n",
              "      <th>Manufacturer_MITSUBISHI</th>\n",
              "      <th>...</th>\n",
              "      <th>Color_Sky blue</th>\n",
              "      <th>Color_White</th>\n",
              "      <th>Color_Yellow</th>\n",
              "      <th>Prod. year</th>\n",
              "      <th>Leather interior</th>\n",
              "      <th>Engine volume</th>\n",
              "      <th>Mileage</th>\n",
              "      <th>Cylinders</th>\n",
              "      <th>Doors</th>\n",
              "      <th>Airbags</th>\n",
              "    </tr>\n",
              "  </thead>\n",
              "  <tbody>\n",
              "    <tr>\n",
              "      <th>0</th>\n",
              "      <td>-0.193908</td>\n",
              "      <td>-0.254583</td>\n",
              "      <td>-0.079782</td>\n",
              "      <td>-0.250918</td>\n",
              "      <td>-0.253588</td>\n",
              "      <td>-0.600186</td>\n",
              "      <td>-0.132829</td>\n",
              "      <td>4.070297</td>\n",
              "      <td>-0.303136</td>\n",
              "      <td>-0.063517</td>\n",
              "      <td>...</td>\n",
              "      <td>-0.073392</td>\n",
              "      <td>-0.576233</td>\n",
              "      <td>-0.075414</td>\n",
              "      <td>-0.422606</td>\n",
              "      <td>0.548606</td>\n",
              "      <td>1.613653</td>\n",
              "      <td>-0.027342</td>\n",
              "      <td>1.497696</td>\n",
              "      <td>0.098715</td>\n",
              "      <td>1.296527</td>\n",
              "    </tr>\n",
              "    <tr>\n",
              "      <th>1</th>\n",
              "      <td>-0.193908</td>\n",
              "      <td>-0.254583</td>\n",
              "      <td>-0.079782</td>\n",
              "      <td>-0.250918</td>\n",
              "      <td>3.943411</td>\n",
              "      <td>-0.600186</td>\n",
              "      <td>-0.132829</td>\n",
              "      <td>-0.245682</td>\n",
              "      <td>-0.303136</td>\n",
              "      <td>-0.063517</td>\n",
              "      <td>...</td>\n",
              "      <td>-0.073392</td>\n",
              "      <td>-0.576233</td>\n",
              "      <td>-0.075414</td>\n",
              "      <td>-1.319259</td>\n",
              "      <td>-1.822803</td>\n",
              "      <td>-1.166200</td>\n",
              "      <td>-0.027046</td>\n",
              "      <td>-0.425531</td>\n",
              "      <td>0.098715</td>\n",
              "      <td>-1.007964</td>\n",
              "    </tr>\n",
              "    <tr>\n",
              "      <th>2</th>\n",
              "      <td>-0.193908</td>\n",
              "      <td>-0.254583</td>\n",
              "      <td>-0.079782</td>\n",
              "      <td>3.985369</td>\n",
              "      <td>-0.253588</td>\n",
              "      <td>-0.600186</td>\n",
              "      <td>-0.132829</td>\n",
              "      <td>-0.245682</td>\n",
              "      <td>-0.303136</td>\n",
              "      <td>-0.063517</td>\n",
              "      <td>...</td>\n",
              "      <td>-0.073392</td>\n",
              "      <td>1.735408</td>\n",
              "      <td>-0.075414</td>\n",
              "      <td>-0.198443</td>\n",
              "      <td>0.548606</td>\n",
              "      <td>0.350084</td>\n",
              "      <td>-0.027702</td>\n",
              "      <td>-0.425531</td>\n",
              "      <td>0.098715</td>\n",
              "      <td>-1.468862</td>\n",
              "    </tr>\n",
              "    <tr>\n",
              "      <th>3</th>\n",
              "      <td>-0.193908</td>\n",
              "      <td>-0.254583</td>\n",
              "      <td>-0.079782</td>\n",
              "      <td>-0.250918</td>\n",
              "      <td>3.943411</td>\n",
              "      <td>-0.600186</td>\n",
              "      <td>-0.132829</td>\n",
              "      <td>-0.245682</td>\n",
              "      <td>-0.303136</td>\n",
              "      <td>-0.063517</td>\n",
              "      <td>...</td>\n",
              "      <td>-0.073392</td>\n",
              "      <td>-0.576233</td>\n",
              "      <td>-0.075414</td>\n",
              "      <td>0.474047</td>\n",
              "      <td>0.548606</td>\n",
              "      <td>-1.166200</td>\n",
              "      <td>-0.029330</td>\n",
              "      <td>-0.425531</td>\n",
              "      <td>0.098715</td>\n",
              "      <td>-0.547066</td>\n",
              "    </tr>\n",
              "    <tr>\n",
              "      <th>4</th>\n",
              "      <td>-0.193908</td>\n",
              "      <td>-0.254583</td>\n",
              "      <td>-0.079782</td>\n",
              "      <td>-0.250918</td>\n",
              "      <td>-0.253588</td>\n",
              "      <td>1.666151</td>\n",
              "      <td>-0.132829</td>\n",
              "      <td>-0.245682</td>\n",
              "      <td>-0.303136</td>\n",
              "      <td>-0.063517</td>\n",
              "      <td>...</td>\n",
              "      <td>-0.073392</td>\n",
              "      <td>1.735408</td>\n",
              "      <td>-0.075414</td>\n",
              "      <td>0.922374</td>\n",
              "      <td>0.548606</td>\n",
              "      <td>-0.281701</td>\n",
              "      <td>-0.027871</td>\n",
              "      <td>-0.425531</td>\n",
              "      <td>0.098715</td>\n",
              "      <td>-0.547066</td>\n",
              "    </tr>\n",
              "    <tr>\n",
              "      <th>...</th>\n",
              "      <td>...</td>\n",
              "      <td>...</td>\n",
              "      <td>...</td>\n",
              "      <td>...</td>\n",
              "      <td>...</td>\n",
              "      <td>...</td>\n",
              "      <td>...</td>\n",
              "      <td>...</td>\n",
              "      <td>...</td>\n",
              "      <td>...</td>\n",
              "      <td>...</td>\n",
              "      <td>...</td>\n",
              "      <td>...</td>\n",
              "      <td>...</td>\n",
              "      <td>...</td>\n",
              "      <td>...</td>\n",
              "      <td>...</td>\n",
              "      <td>...</td>\n",
              "      <td>...</td>\n",
              "      <td>...</td>\n",
              "      <td>...</td>\n",
              "    </tr>\n",
              "    <tr>\n",
              "      <th>13434</th>\n",
              "      <td>-0.193908</td>\n",
              "      <td>-0.254583</td>\n",
              "      <td>-0.079782</td>\n",
              "      <td>-0.250918</td>\n",
              "      <td>-0.253588</td>\n",
              "      <td>-0.600186</td>\n",
              "      <td>-0.132829</td>\n",
              "      <td>-0.245682</td>\n",
              "      <td>3.298849</td>\n",
              "      <td>-0.063517</td>\n",
              "      <td>...</td>\n",
              "      <td>-0.073392</td>\n",
              "      <td>-0.576233</td>\n",
              "      <td>-0.075414</td>\n",
              "      <td>0.249884</td>\n",
              "      <td>0.548606</td>\n",
              "      <td>1.613653</td>\n",
              "      <td>-0.028994</td>\n",
              "      <td>1.497696</td>\n",
              "      <td>0.098715</td>\n",
              "      <td>1.296527</td>\n",
              "    </tr>\n",
              "    <tr>\n",
              "      <th>13435</th>\n",
              "      <td>-0.193908</td>\n",
              "      <td>-0.254583</td>\n",
              "      <td>-0.079782</td>\n",
              "      <td>-0.250918</td>\n",
              "      <td>-0.253588</td>\n",
              "      <td>1.666151</td>\n",
              "      <td>-0.132829</td>\n",
              "      <td>-0.245682</td>\n",
              "      <td>-0.303136</td>\n",
              "      <td>-0.063517</td>\n",
              "      <td>...</td>\n",
              "      <td>-0.073392</td>\n",
              "      <td>-0.576233</td>\n",
              "      <td>-0.075414</td>\n",
              "      <td>-0.198443</td>\n",
              "      <td>0.548606</td>\n",
              "      <td>0.223727</td>\n",
              "      <td>-0.027857</td>\n",
              "      <td>-0.425531</td>\n",
              "      <td>0.098715</td>\n",
              "      <td>0.374731</td>\n",
              "    </tr>\n",
              "    <tr>\n",
              "      <th>13436</th>\n",
              "      <td>-0.193908</td>\n",
              "      <td>-0.254583</td>\n",
              "      <td>-0.079782</td>\n",
              "      <td>-0.250918</td>\n",
              "      <td>-0.253588</td>\n",
              "      <td>1.666151</td>\n",
              "      <td>-0.132829</td>\n",
              "      <td>-0.245682</td>\n",
              "      <td>-0.303136</td>\n",
              "      <td>-0.063517</td>\n",
              "      <td>...</td>\n",
              "      <td>-0.073392</td>\n",
              "      <td>-0.576233</td>\n",
              "      <td>-0.075414</td>\n",
              "      <td>-0.422606</td>\n",
              "      <td>0.548606</td>\n",
              "      <td>-0.281701</td>\n",
              "      <td>-0.028813</td>\n",
              "      <td>-0.425531</td>\n",
              "      <td>0.098715</td>\n",
              "      <td>-0.547066</td>\n",
              "    </tr>\n",
              "    <tr>\n",
              "      <th>13437</th>\n",
              "      <td>-0.193908</td>\n",
              "      <td>3.927989</td>\n",
              "      <td>-0.079782</td>\n",
              "      <td>-0.250918</td>\n",
              "      <td>-0.253588</td>\n",
              "      <td>-0.600186</td>\n",
              "      <td>-0.132829</td>\n",
              "      <td>-0.245682</td>\n",
              "      <td>-0.303136</td>\n",
              "      <td>-0.063517</td>\n",
              "      <td>...</td>\n",
              "      <td>-0.073392</td>\n",
              "      <td>-0.576233</td>\n",
              "      <td>-0.075414</td>\n",
              "      <td>-1.095096</td>\n",
              "      <td>0.548606</td>\n",
              "      <td>-0.281701</td>\n",
              "      <td>-0.030188</td>\n",
              "      <td>-0.425531</td>\n",
              "      <td>0.098715</td>\n",
              "      <td>-0.547066</td>\n",
              "    </tr>\n",
              "    <tr>\n",
              "      <th>13438</th>\n",
              "      <td>-0.193908</td>\n",
              "      <td>-0.254583</td>\n",
              "      <td>-0.079782</td>\n",
              "      <td>-0.250918</td>\n",
              "      <td>-0.253588</td>\n",
              "      <td>1.666151</td>\n",
              "      <td>-0.132829</td>\n",
              "      <td>-0.245682</td>\n",
              "      <td>-0.303136</td>\n",
              "      <td>-0.063517</td>\n",
              "      <td>...</td>\n",
              "      <td>-0.073392</td>\n",
              "      <td>1.735408</td>\n",
              "      <td>-0.075414</td>\n",
              "      <td>0.025721</td>\n",
              "      <td>0.548606</td>\n",
              "      <td>0.223727</td>\n",
              "      <td>-0.027322</td>\n",
              "      <td>-0.425531</td>\n",
              "      <td>0.098715</td>\n",
              "      <td>1.296527</td>\n",
              "    </tr>\n",
              "  </tbody>\n",
              "</table>\n",
              "<p>13439 rows × 121 columns</p>\n",
              "</div>\n",
              "    <div class=\"colab-df-buttons\">\n",
              "\n",
              "  <div class=\"colab-df-container\">\n",
              "    <button class=\"colab-df-convert\" onclick=\"convertToInteractive('df-9892b2bf-8201-4b1f-8f7b-a1f0276762ab')\"\n",
              "            title=\"Convert this dataframe to an interactive table.\"\n",
              "            style=\"display:none;\">\n",
              "\n",
              "  <svg xmlns=\"http://www.w3.org/2000/svg\" height=\"24px\" viewBox=\"0 -960 960 960\">\n",
              "    <path d=\"M120-120v-720h720v720H120Zm60-500h600v-160H180v160Zm220 220h160v-160H400v160Zm0 220h160v-160H400v160ZM180-400h160v-160H180v160Zm440 0h160v-160H620v160ZM180-180h160v-160H180v160Zm440 0h160v-160H620v160Z\"/>\n",
              "  </svg>\n",
              "    </button>\n",
              "\n",
              "  <style>\n",
              "    .colab-df-container {\n",
              "      display:flex;\n",
              "      gap: 12px;\n",
              "    }\n",
              "\n",
              "    .colab-df-convert {\n",
              "      background-color: #E8F0FE;\n",
              "      border: none;\n",
              "      border-radius: 50%;\n",
              "      cursor: pointer;\n",
              "      display: none;\n",
              "      fill: #1967D2;\n",
              "      height: 32px;\n",
              "      padding: 0 0 0 0;\n",
              "      width: 32px;\n",
              "    }\n",
              "\n",
              "    .colab-df-convert:hover {\n",
              "      background-color: #E2EBFA;\n",
              "      box-shadow: 0px 1px 2px rgba(60, 64, 67, 0.3), 0px 1px 3px 1px rgba(60, 64, 67, 0.15);\n",
              "      fill: #174EA6;\n",
              "    }\n",
              "\n",
              "    .colab-df-buttons div {\n",
              "      margin-bottom: 4px;\n",
              "    }\n",
              "\n",
              "    [theme=dark] .colab-df-convert {\n",
              "      background-color: #3B4455;\n",
              "      fill: #D2E3FC;\n",
              "    }\n",
              "\n",
              "    [theme=dark] .colab-df-convert:hover {\n",
              "      background-color: #434B5C;\n",
              "      box-shadow: 0px 1px 3px 1px rgba(0, 0, 0, 0.15);\n",
              "      filter: drop-shadow(0px 1px 2px rgba(0, 0, 0, 0.3));\n",
              "      fill: #FFFFFF;\n",
              "    }\n",
              "  </style>\n",
              "\n",
              "    <script>\n",
              "      const buttonEl =\n",
              "        document.querySelector('#df-9892b2bf-8201-4b1f-8f7b-a1f0276762ab button.colab-df-convert');\n",
              "      buttonEl.style.display =\n",
              "        google.colab.kernel.accessAllowed ? 'block' : 'none';\n",
              "\n",
              "      async function convertToInteractive(key) {\n",
              "        const element = document.querySelector('#df-9892b2bf-8201-4b1f-8f7b-a1f0276762ab');\n",
              "        const dataTable =\n",
              "          await google.colab.kernel.invokeFunction('convertToInteractive',\n",
              "                                                    [key], {});\n",
              "        if (!dataTable) return;\n",
              "\n",
              "        const docLinkHtml = 'Like what you see? Visit the ' +\n",
              "          '<a target=\"_blank\" href=https://colab.research.google.com/notebooks/data_table.ipynb>data table notebook</a>'\n",
              "          + ' to learn more about interactive tables.';\n",
              "        element.innerHTML = '';\n",
              "        dataTable['output_type'] = 'display_data';\n",
              "        await google.colab.output.renderOutput(dataTable, element);\n",
              "        const docLink = document.createElement('div');\n",
              "        docLink.innerHTML = docLinkHtml;\n",
              "        element.appendChild(docLink);\n",
              "      }\n",
              "    </script>\n",
              "  </div>\n",
              "\n",
              "\n",
              "<div id=\"df-8a8443d4-e9a9-44d0-8d35-39787f000828\">\n",
              "  <button class=\"colab-df-quickchart\" onclick=\"quickchart('df-8a8443d4-e9a9-44d0-8d35-39787f000828')\"\n",
              "            title=\"Suggest charts\"\n",
              "            style=\"display:none;\">\n",
              "\n",
              "<svg xmlns=\"http://www.w3.org/2000/svg\" height=\"24px\"viewBox=\"0 0 24 24\"\n",
              "     width=\"24px\">\n",
              "    <g>\n",
              "        <path d=\"M19 3H5c-1.1 0-2 .9-2 2v14c0 1.1.9 2 2 2h14c1.1 0 2-.9 2-2V5c0-1.1-.9-2-2-2zM9 17H7v-7h2v7zm4 0h-2V7h2v10zm4 0h-2v-4h2v4z\"/>\n",
              "    </g>\n",
              "</svg>\n",
              "  </button>\n",
              "\n",
              "<style>\n",
              "  .colab-df-quickchart {\n",
              "      --bg-color: #E8F0FE;\n",
              "      --fill-color: #1967D2;\n",
              "      --hover-bg-color: #E2EBFA;\n",
              "      --hover-fill-color: #174EA6;\n",
              "      --disabled-fill-color: #AAA;\n",
              "      --disabled-bg-color: #DDD;\n",
              "  }\n",
              "\n",
              "  [theme=dark] .colab-df-quickchart {\n",
              "      --bg-color: #3B4455;\n",
              "      --fill-color: #D2E3FC;\n",
              "      --hover-bg-color: #434B5C;\n",
              "      --hover-fill-color: #FFFFFF;\n",
              "      --disabled-bg-color: #3B4455;\n",
              "      --disabled-fill-color: #666;\n",
              "  }\n",
              "\n",
              "  .colab-df-quickchart {\n",
              "    background-color: var(--bg-color);\n",
              "    border: none;\n",
              "    border-radius: 50%;\n",
              "    cursor: pointer;\n",
              "    display: none;\n",
              "    fill: var(--fill-color);\n",
              "    height: 32px;\n",
              "    padding: 0;\n",
              "    width: 32px;\n",
              "  }\n",
              "\n",
              "  .colab-df-quickchart:hover {\n",
              "    background-color: var(--hover-bg-color);\n",
              "    box-shadow: 0 1px 2px rgba(60, 64, 67, 0.3), 0 1px 3px 1px rgba(60, 64, 67, 0.15);\n",
              "    fill: var(--button-hover-fill-color);\n",
              "  }\n",
              "\n",
              "  .colab-df-quickchart-complete:disabled,\n",
              "  .colab-df-quickchart-complete:disabled:hover {\n",
              "    background-color: var(--disabled-bg-color);\n",
              "    fill: var(--disabled-fill-color);\n",
              "    box-shadow: none;\n",
              "  }\n",
              "\n",
              "  .colab-df-spinner {\n",
              "    border: 2px solid var(--fill-color);\n",
              "    border-color: transparent;\n",
              "    border-bottom-color: var(--fill-color);\n",
              "    animation:\n",
              "      spin 1s steps(1) infinite;\n",
              "  }\n",
              "\n",
              "  @keyframes spin {\n",
              "    0% {\n",
              "      border-color: transparent;\n",
              "      border-bottom-color: var(--fill-color);\n",
              "      border-left-color: var(--fill-color);\n",
              "    }\n",
              "    20% {\n",
              "      border-color: transparent;\n",
              "      border-left-color: var(--fill-color);\n",
              "      border-top-color: var(--fill-color);\n",
              "    }\n",
              "    30% {\n",
              "      border-color: transparent;\n",
              "      border-left-color: var(--fill-color);\n",
              "      border-top-color: var(--fill-color);\n",
              "      border-right-color: var(--fill-color);\n",
              "    }\n",
              "    40% {\n",
              "      border-color: transparent;\n",
              "      border-right-color: var(--fill-color);\n",
              "      border-top-color: var(--fill-color);\n",
              "    }\n",
              "    60% {\n",
              "      border-color: transparent;\n",
              "      border-right-color: var(--fill-color);\n",
              "    }\n",
              "    80% {\n",
              "      border-color: transparent;\n",
              "      border-right-color: var(--fill-color);\n",
              "      border-bottom-color: var(--fill-color);\n",
              "    }\n",
              "    90% {\n",
              "      border-color: transparent;\n",
              "      border-bottom-color: var(--fill-color);\n",
              "    }\n",
              "  }\n",
              "</style>\n",
              "\n",
              "  <script>\n",
              "    async function quickchart(key) {\n",
              "      const quickchartButtonEl =\n",
              "        document.querySelector('#' + key + ' button');\n",
              "      quickchartButtonEl.disabled = true;  // To prevent multiple clicks.\n",
              "      quickchartButtonEl.classList.add('colab-df-spinner');\n",
              "      try {\n",
              "        const charts = await google.colab.kernel.invokeFunction(\n",
              "            'suggestCharts', [key], {});\n",
              "      } catch (error) {\n",
              "        console.error('Error during call to suggestCharts:', error);\n",
              "      }\n",
              "      quickchartButtonEl.classList.remove('colab-df-spinner');\n",
              "      quickchartButtonEl.classList.add('colab-df-quickchart-complete');\n",
              "    }\n",
              "    (() => {\n",
              "      let quickchartButtonEl =\n",
              "        document.querySelector('#df-8a8443d4-e9a9-44d0-8d35-39787f000828 button');\n",
              "      quickchartButtonEl.style.display =\n",
              "        google.colab.kernel.accessAllowed ? 'block' : 'none';\n",
              "    })();\n",
              "  </script>\n",
              "</div>\n",
              "    </div>\n",
              "  </div>\n"
            ],
            "application/vnd.google.colaboratory.intrinsic+json": {
              "type": "dataframe",
              "variable_name": "X"
            }
          },
          "metadata": {},
          "execution_count": 82
        }
      ]
    },
    {
      "cell_type": "markdown",
      "id": "98487cec-f716-42f6-a599-02c36ebab9df",
      "metadata": {
        "id": "98487cec-f716-42f6-a599-02c36ebab9df"
      },
      "source": [
        "## 2. Построение моделей"
      ]
    },
    {
      "cell_type": "markdown",
      "id": "de9c66ee-69ee-4fd3-9396-56b8969d6c9b",
      "metadata": {
        "id": "de9c66ee-69ee-4fd3-9396-56b8969d6c9b"
      },
      "source": [
        "### 2.1 Baseline"
      ]
    },
    {
      "cell_type": "markdown",
      "id": "71acaadf-279b-4404-9381-1ff68ea1602b",
      "metadata": {
        "id": "71acaadf-279b-4404-9381-1ff68ea1602b"
      },
      "source": [
        "#### В качестве baseline возьмем самую обычную линейную регрессию"
      ]
    },
    {
      "cell_type": "code",
      "execution_count": 83,
      "id": "2ca673a1-306e-4252-99a1-e5e426e24a36",
      "metadata": {
        "id": "2ca673a1-306e-4252-99a1-e5e426e24a36"
      },
      "outputs": [],
      "source": [
        "from sklearn.linear_model import LinearRegression\n",
        "from sklearn.model_selection import train_test_split\n",
        "from sklearn.metrics import mean_squared_error"
      ]
    },
    {
      "cell_type": "code",
      "execution_count": 84,
      "id": "e8ae1a18-bc46-447c-bfc4-2c790bcf6822",
      "metadata": {
        "id": "e8ae1a18-bc46-447c-bfc4-2c790bcf6822"
      },
      "outputs": [],
      "source": [
        "X_train, X_test, y_train, y_test = train_test_split(X, y, random_state = 13)"
      ]
    },
    {
      "cell_type": "code",
      "execution_count": 85,
      "id": "13aec362-d3b8-487a-aee6-7e5a1dd9584e",
      "metadata": {
        "colab": {
          "base_uri": "https://localhost:8080/"
        },
        "id": "13aec362-d3b8-487a-aee6-7e5a1dd9584e",
        "outputId": "0550156f-807c-484f-a45a-ba1762911ea3"
      },
      "outputs": [
        {
          "output_type": "stream",
          "name": "stdout",
          "text": [
            "MSE train: 131087964.0868834\n",
            "MSE test: 1.2282271325132342e+30\n"
          ]
        }
      ],
      "source": [
        "lr = LinearRegression().fit(X_train, y_train)\n",
        "print(f\"MSE train: {mean_squared_error(y_train, lr.predict(X_train))}\")\n",
        "print(f\"MSE test: {mean_squared_error(y_test, lr.predict(X_test))}\")"
      ]
    },
    {
      "cell_type": "markdown",
      "id": "2736f736-7baf-4626-a7b9-d6386ffb2532",
      "metadata": {
        "id": "2736f736-7baf-4626-a7b9-d6386ffb2532"
      },
      "source": [
        "### 2.2 Linear regression"
      ]
    },
    {
      "cell_type": "markdown",
      "id": "b013e07f-0f2a-4a30-9485-8e2e5add3e35",
      "metadata": {
        "id": "b013e07f-0f2a-4a30-9485-8e2e5add3e35"
      },
      "source": [
        "#### Но в этот раз поработает с параметрами"
      ]
    },
    {
      "cell_type": "code",
      "execution_count": 86,
      "id": "09292578-106e-4786-9ca7-daf8af48a4dd",
      "metadata": {
        "id": "09292578-106e-4786-9ca7-daf8af48a4dd"
      },
      "outputs": [],
      "source": [
        "from sklearn.feature_selection import VarianceThreshold\n",
        "from sklearn.feature_selection import SelectFromModel\n",
        "from sklearn.pipeline import Pipeline\n",
        "from sklearn.preprocessing import StandardScaler\n",
        "from sklearn.linear_model import Ridge\n",
        "\n",
        "import warnings\n",
        "\n",
        "warnings.filterwarnings('ignore')"
      ]
    },
    {
      "cell_type": "code",
      "execution_count": 87,
      "id": "db8f0f14-01f7-4093-a4c8-7a09bc3cd1da",
      "metadata": {
        "colab": {
          "base_uri": "https://localhost:8080/",
          "height": 227
        },
        "id": "db8f0f14-01f7-4093-a4c8-7a09bc3cd1da",
        "outputId": "34c44701-33e1-480a-e5a4-824a7e8f9259"
      },
      "outputs": [
        {
          "output_type": "execute_result",
          "data": {
            "text/plain": [
              "Pipeline(steps=[('variance', VarianceThreshold(threshold=0.01)),\n",
              "                ('selection', SelectFromModel(estimator=Ridge(alpha=5.0))),\n",
              "                ('regressor', Ridge(alpha=5.0))])"
            ],
            "text/html": [
              "<style>#sk-container-id-5 {color: black;}#sk-container-id-5 pre{padding: 0;}#sk-container-id-5 div.sk-toggleable {background-color: white;}#sk-container-id-5 label.sk-toggleable__label {cursor: pointer;display: block;width: 100%;margin-bottom: 0;padding: 0.3em;box-sizing: border-box;text-align: center;}#sk-container-id-5 label.sk-toggleable__label-arrow:before {content: \"▸\";float: left;margin-right: 0.25em;color: #696969;}#sk-container-id-5 label.sk-toggleable__label-arrow:hover:before {color: black;}#sk-container-id-5 div.sk-estimator:hover label.sk-toggleable__label-arrow:before {color: black;}#sk-container-id-5 div.sk-toggleable__content {max-height: 0;max-width: 0;overflow: hidden;text-align: left;background-color: #f0f8ff;}#sk-container-id-5 div.sk-toggleable__content pre {margin: 0.2em;color: black;border-radius: 0.25em;background-color: #f0f8ff;}#sk-container-id-5 input.sk-toggleable__control:checked~div.sk-toggleable__content {max-height: 200px;max-width: 100%;overflow: auto;}#sk-container-id-5 input.sk-toggleable__control:checked~label.sk-toggleable__label-arrow:before {content: \"▾\";}#sk-container-id-5 div.sk-estimator input.sk-toggleable__control:checked~label.sk-toggleable__label {background-color: #d4ebff;}#sk-container-id-5 div.sk-label input.sk-toggleable__control:checked~label.sk-toggleable__label {background-color: #d4ebff;}#sk-container-id-5 input.sk-hidden--visually {border: 0;clip: rect(1px 1px 1px 1px);clip: rect(1px, 1px, 1px, 1px);height: 1px;margin: -1px;overflow: hidden;padding: 0;position: absolute;width: 1px;}#sk-container-id-5 div.sk-estimator {font-family: monospace;background-color: #f0f8ff;border: 1px dotted black;border-radius: 0.25em;box-sizing: border-box;margin-bottom: 0.5em;}#sk-container-id-5 div.sk-estimator:hover {background-color: #d4ebff;}#sk-container-id-5 div.sk-parallel-item::after {content: \"\";width: 100%;border-bottom: 1px solid gray;flex-grow: 1;}#sk-container-id-5 div.sk-label:hover label.sk-toggleable__label {background-color: #d4ebff;}#sk-container-id-5 div.sk-serial::before {content: \"\";position: absolute;border-left: 1px solid gray;box-sizing: border-box;top: 0;bottom: 0;left: 50%;z-index: 0;}#sk-container-id-5 div.sk-serial {display: flex;flex-direction: column;align-items: center;background-color: white;padding-right: 0.2em;padding-left: 0.2em;position: relative;}#sk-container-id-5 div.sk-item {position: relative;z-index: 1;}#sk-container-id-5 div.sk-parallel {display: flex;align-items: stretch;justify-content: center;background-color: white;position: relative;}#sk-container-id-5 div.sk-item::before, #sk-container-id-5 div.sk-parallel-item::before {content: \"\";position: absolute;border-left: 1px solid gray;box-sizing: border-box;top: 0;bottom: 0;left: 50%;z-index: -1;}#sk-container-id-5 div.sk-parallel-item {display: flex;flex-direction: column;z-index: 1;position: relative;background-color: white;}#sk-container-id-5 div.sk-parallel-item:first-child::after {align-self: flex-end;width: 50%;}#sk-container-id-5 div.sk-parallel-item:last-child::after {align-self: flex-start;width: 50%;}#sk-container-id-5 div.sk-parallel-item:only-child::after {width: 0;}#sk-container-id-5 div.sk-dashed-wrapped {border: 1px dashed gray;margin: 0 0.4em 0.5em 0.4em;box-sizing: border-box;padding-bottom: 0.4em;background-color: white;}#sk-container-id-5 div.sk-label label {font-family: monospace;font-weight: bold;display: inline-block;line-height: 1.2em;}#sk-container-id-5 div.sk-label-container {text-align: center;}#sk-container-id-5 div.sk-container {/* jupyter's `normalize.less` sets `[hidden] { display: none; }` but bootstrap.min.css set `[hidden] { display: none !important; }` so we also need the `!important` here to be able to override the default hidden behavior on the sphinx rendered scikit-learn.org. See: https://github.com/scikit-learn/scikit-learn/issues/21755 */display: inline-block !important;position: relative;}#sk-container-id-5 div.sk-text-repr-fallback {display: none;}</style><div id=\"sk-container-id-5\" class=\"sk-top-container\"><div class=\"sk-text-repr-fallback\"><pre>Pipeline(steps=[(&#x27;variance&#x27;, VarianceThreshold(threshold=0.01)),\n",
              "                (&#x27;selection&#x27;, SelectFromModel(estimator=Ridge(alpha=5.0))),\n",
              "                (&#x27;regressor&#x27;, Ridge(alpha=5.0))])</pre><b>In a Jupyter environment, please rerun this cell to show the HTML representation or trust the notebook. <br />On GitHub, the HTML representation is unable to render, please try loading this page with nbviewer.org.</b></div><div class=\"sk-container\" hidden><div class=\"sk-item sk-dashed-wrapped\"><div class=\"sk-label-container\"><div class=\"sk-label sk-toggleable\"><input class=\"sk-toggleable__control sk-hidden--visually\" id=\"sk-estimator-id-27\" type=\"checkbox\" ><label for=\"sk-estimator-id-27\" class=\"sk-toggleable__label sk-toggleable__label-arrow\">Pipeline</label><div class=\"sk-toggleable__content\"><pre>Pipeline(steps=[(&#x27;variance&#x27;, VarianceThreshold(threshold=0.01)),\n",
              "                (&#x27;selection&#x27;, SelectFromModel(estimator=Ridge(alpha=5.0))),\n",
              "                (&#x27;regressor&#x27;, Ridge(alpha=5.0))])</pre></div></div></div><div class=\"sk-serial\"><div class=\"sk-item\"><div class=\"sk-estimator sk-toggleable\"><input class=\"sk-toggleable__control sk-hidden--visually\" id=\"sk-estimator-id-28\" type=\"checkbox\" ><label for=\"sk-estimator-id-28\" class=\"sk-toggleable__label sk-toggleable__label-arrow\">VarianceThreshold</label><div class=\"sk-toggleable__content\"><pre>VarianceThreshold(threshold=0.01)</pre></div></div></div><div class=\"sk-item sk-dashed-wrapped\"><div class=\"sk-label-container\"><div class=\"sk-label sk-toggleable\"><input class=\"sk-toggleable__control sk-hidden--visually\" id=\"sk-estimator-id-29\" type=\"checkbox\" ><label for=\"sk-estimator-id-29\" class=\"sk-toggleable__label sk-toggleable__label-arrow\">selection: SelectFromModel</label><div class=\"sk-toggleable__content\"><pre>SelectFromModel(estimator=Ridge(alpha=5.0))</pre></div></div></div><div class=\"sk-parallel\"><div class=\"sk-parallel-item\"><div class=\"sk-item\"><div class=\"sk-label-container\"><div class=\"sk-label sk-toggleable\"><input class=\"sk-toggleable__control sk-hidden--visually\" id=\"sk-estimator-id-30\" type=\"checkbox\" ><label for=\"sk-estimator-id-30\" class=\"sk-toggleable__label sk-toggleable__label-arrow\">estimator: Ridge</label><div class=\"sk-toggleable__content\"><pre>Ridge(alpha=5.0)</pre></div></div></div><div class=\"sk-serial\"><div class=\"sk-item\"><div class=\"sk-estimator sk-toggleable\"><input class=\"sk-toggleable__control sk-hidden--visually\" id=\"sk-estimator-id-31\" type=\"checkbox\" ><label for=\"sk-estimator-id-31\" class=\"sk-toggleable__label sk-toggleable__label-arrow\">Ridge</label><div class=\"sk-toggleable__content\"><pre>Ridge(alpha=5.0)</pre></div></div></div></div></div></div></div></div><div class=\"sk-item\"><div class=\"sk-estimator sk-toggleable\"><input class=\"sk-toggleable__control sk-hidden--visually\" id=\"sk-estimator-id-32\" type=\"checkbox\" ><label for=\"sk-estimator-id-32\" class=\"sk-toggleable__label sk-toggleable__label-arrow\">Ridge</label><div class=\"sk-toggleable__content\"><pre>Ridge(alpha=5.0)</pre></div></div></div></div></div></div></div>"
            ]
          },
          "metadata": {},
          "execution_count": 87
        }
      ],
      "source": [
        "pipe = Pipeline(steps=[\n",
        "    ('variance', VarianceThreshold(0.01)),\n",
        "    ('selection', SelectFromModel(Ridge(5.0))),\n",
        "    ('regressor', Ridge(5.0))\n",
        "])\n",
        "\n",
        "pipe.fit(X_train, y_train)"
      ]
    },
    {
      "cell_type": "code",
      "execution_count": 88,
      "id": "65f319a4-cab6-4731-b5e6-fc42a3c2d045",
      "metadata": {
        "colab": {
          "base_uri": "https://localhost:8080/",
          "height": 253
        },
        "id": "65f319a4-cab6-4731-b5e6-fc42a3c2d045",
        "outputId": "53addd08-fc64-44c1-fbf6-5680a35762d7"
      },
      "outputs": [
        {
          "output_type": "execute_result",
          "data": {
            "text/plain": [
              "GridSearchCV(cv=5,\n",
              "             estimator=Pipeline(steps=[('variance',\n",
              "                                        VarianceThreshold(threshold=0.01)),\n",
              "                                       ('selection',\n",
              "                                        SelectFromModel(estimator=Ridge(alpha=5.0))),\n",
              "                                       ('regressor', Ridge(alpha=5.0))]),\n",
              "             param_grid={'regressor__alpha': [2.278, 2.28, 2.283],\n",
              "                         'selection__estimator__alpha': [0.653, 0.655, 0.658],\n",
              "                         'variance__threshold': [0.0005]})"
            ],
            "text/html": [
              "<style>#sk-container-id-6 {color: black;}#sk-container-id-6 pre{padding: 0;}#sk-container-id-6 div.sk-toggleable {background-color: white;}#sk-container-id-6 label.sk-toggleable__label {cursor: pointer;display: block;width: 100%;margin-bottom: 0;padding: 0.3em;box-sizing: border-box;text-align: center;}#sk-container-id-6 label.sk-toggleable__label-arrow:before {content: \"▸\";float: left;margin-right: 0.25em;color: #696969;}#sk-container-id-6 label.sk-toggleable__label-arrow:hover:before {color: black;}#sk-container-id-6 div.sk-estimator:hover label.sk-toggleable__label-arrow:before {color: black;}#sk-container-id-6 div.sk-toggleable__content {max-height: 0;max-width: 0;overflow: hidden;text-align: left;background-color: #f0f8ff;}#sk-container-id-6 div.sk-toggleable__content pre {margin: 0.2em;color: black;border-radius: 0.25em;background-color: #f0f8ff;}#sk-container-id-6 input.sk-toggleable__control:checked~div.sk-toggleable__content {max-height: 200px;max-width: 100%;overflow: auto;}#sk-container-id-6 input.sk-toggleable__control:checked~label.sk-toggleable__label-arrow:before {content: \"▾\";}#sk-container-id-6 div.sk-estimator input.sk-toggleable__control:checked~label.sk-toggleable__label {background-color: #d4ebff;}#sk-container-id-6 div.sk-label input.sk-toggleable__control:checked~label.sk-toggleable__label {background-color: #d4ebff;}#sk-container-id-6 input.sk-hidden--visually {border: 0;clip: rect(1px 1px 1px 1px);clip: rect(1px, 1px, 1px, 1px);height: 1px;margin: -1px;overflow: hidden;padding: 0;position: absolute;width: 1px;}#sk-container-id-6 div.sk-estimator {font-family: monospace;background-color: #f0f8ff;border: 1px dotted black;border-radius: 0.25em;box-sizing: border-box;margin-bottom: 0.5em;}#sk-container-id-6 div.sk-estimator:hover {background-color: #d4ebff;}#sk-container-id-6 div.sk-parallel-item::after {content: \"\";width: 100%;border-bottom: 1px solid gray;flex-grow: 1;}#sk-container-id-6 div.sk-label:hover label.sk-toggleable__label {background-color: #d4ebff;}#sk-container-id-6 div.sk-serial::before {content: \"\";position: absolute;border-left: 1px solid gray;box-sizing: border-box;top: 0;bottom: 0;left: 50%;z-index: 0;}#sk-container-id-6 div.sk-serial {display: flex;flex-direction: column;align-items: center;background-color: white;padding-right: 0.2em;padding-left: 0.2em;position: relative;}#sk-container-id-6 div.sk-item {position: relative;z-index: 1;}#sk-container-id-6 div.sk-parallel {display: flex;align-items: stretch;justify-content: center;background-color: white;position: relative;}#sk-container-id-6 div.sk-item::before, #sk-container-id-6 div.sk-parallel-item::before {content: \"\";position: absolute;border-left: 1px solid gray;box-sizing: border-box;top: 0;bottom: 0;left: 50%;z-index: -1;}#sk-container-id-6 div.sk-parallel-item {display: flex;flex-direction: column;z-index: 1;position: relative;background-color: white;}#sk-container-id-6 div.sk-parallel-item:first-child::after {align-self: flex-end;width: 50%;}#sk-container-id-6 div.sk-parallel-item:last-child::after {align-self: flex-start;width: 50%;}#sk-container-id-6 div.sk-parallel-item:only-child::after {width: 0;}#sk-container-id-6 div.sk-dashed-wrapped {border: 1px dashed gray;margin: 0 0.4em 0.5em 0.4em;box-sizing: border-box;padding-bottom: 0.4em;background-color: white;}#sk-container-id-6 div.sk-label label {font-family: monospace;font-weight: bold;display: inline-block;line-height: 1.2em;}#sk-container-id-6 div.sk-label-container {text-align: center;}#sk-container-id-6 div.sk-container {/* jupyter's `normalize.less` sets `[hidden] { display: none; }` but bootstrap.min.css set `[hidden] { display: none !important; }` so we also need the `!important` here to be able to override the default hidden behavior on the sphinx rendered scikit-learn.org. See: https://github.com/scikit-learn/scikit-learn/issues/21755 */display: inline-block !important;position: relative;}#sk-container-id-6 div.sk-text-repr-fallback {display: none;}</style><div id=\"sk-container-id-6\" class=\"sk-top-container\"><div class=\"sk-text-repr-fallback\"><pre>GridSearchCV(cv=5,\n",
              "             estimator=Pipeline(steps=[(&#x27;variance&#x27;,\n",
              "                                        VarianceThreshold(threshold=0.01)),\n",
              "                                       (&#x27;selection&#x27;,\n",
              "                                        SelectFromModel(estimator=Ridge(alpha=5.0))),\n",
              "                                       (&#x27;regressor&#x27;, Ridge(alpha=5.0))]),\n",
              "             param_grid={&#x27;regressor__alpha&#x27;: [2.278, 2.28, 2.283],\n",
              "                         &#x27;selection__estimator__alpha&#x27;: [0.653, 0.655, 0.658],\n",
              "                         &#x27;variance__threshold&#x27;: [0.0005]})</pre><b>In a Jupyter environment, please rerun this cell to show the HTML representation or trust the notebook. <br />On GitHub, the HTML representation is unable to render, please try loading this page with nbviewer.org.</b></div><div class=\"sk-container\" hidden><div class=\"sk-item sk-dashed-wrapped\"><div class=\"sk-label-container\"><div class=\"sk-label sk-toggleable\"><input class=\"sk-toggleable__control sk-hidden--visually\" id=\"sk-estimator-id-33\" type=\"checkbox\" ><label for=\"sk-estimator-id-33\" class=\"sk-toggleable__label sk-toggleable__label-arrow\">GridSearchCV</label><div class=\"sk-toggleable__content\"><pre>GridSearchCV(cv=5,\n",
              "             estimator=Pipeline(steps=[(&#x27;variance&#x27;,\n",
              "                                        VarianceThreshold(threshold=0.01)),\n",
              "                                       (&#x27;selection&#x27;,\n",
              "                                        SelectFromModel(estimator=Ridge(alpha=5.0))),\n",
              "                                       (&#x27;regressor&#x27;, Ridge(alpha=5.0))]),\n",
              "             param_grid={&#x27;regressor__alpha&#x27;: [2.278, 2.28, 2.283],\n",
              "                         &#x27;selection__estimator__alpha&#x27;: [0.653, 0.655, 0.658],\n",
              "                         &#x27;variance__threshold&#x27;: [0.0005]})</pre></div></div></div><div class=\"sk-parallel\"><div class=\"sk-parallel-item\"><div class=\"sk-item\"><div class=\"sk-label-container\"><div class=\"sk-label sk-toggleable\"><input class=\"sk-toggleable__control sk-hidden--visually\" id=\"sk-estimator-id-34\" type=\"checkbox\" ><label for=\"sk-estimator-id-34\" class=\"sk-toggleable__label sk-toggleable__label-arrow\">estimator: Pipeline</label><div class=\"sk-toggleable__content\"><pre>Pipeline(steps=[(&#x27;variance&#x27;, VarianceThreshold(threshold=0.01)),\n",
              "                (&#x27;selection&#x27;, SelectFromModel(estimator=Ridge(alpha=5.0))),\n",
              "                (&#x27;regressor&#x27;, Ridge(alpha=5.0))])</pre></div></div></div><div class=\"sk-serial\"><div class=\"sk-item\"><div class=\"sk-serial\"><div class=\"sk-item\"><div class=\"sk-estimator sk-toggleable\"><input class=\"sk-toggleable__control sk-hidden--visually\" id=\"sk-estimator-id-35\" type=\"checkbox\" ><label for=\"sk-estimator-id-35\" class=\"sk-toggleable__label sk-toggleable__label-arrow\">VarianceThreshold</label><div class=\"sk-toggleable__content\"><pre>VarianceThreshold(threshold=0.01)</pre></div></div></div><div class=\"sk-item sk-dashed-wrapped\"><div class=\"sk-label-container\"><div class=\"sk-label sk-toggleable\"><input class=\"sk-toggleable__control sk-hidden--visually\" id=\"sk-estimator-id-36\" type=\"checkbox\" ><label for=\"sk-estimator-id-36\" class=\"sk-toggleable__label sk-toggleable__label-arrow\">selection: SelectFromModel</label><div class=\"sk-toggleable__content\"><pre>SelectFromModel(estimator=Ridge(alpha=5.0))</pre></div></div></div><div class=\"sk-parallel\"><div class=\"sk-parallel-item\"><div class=\"sk-item\"><div class=\"sk-label-container\"><div class=\"sk-label sk-toggleable\"><input class=\"sk-toggleable__control sk-hidden--visually\" id=\"sk-estimator-id-37\" type=\"checkbox\" ><label for=\"sk-estimator-id-37\" class=\"sk-toggleable__label sk-toggleable__label-arrow\">estimator: Ridge</label><div class=\"sk-toggleable__content\"><pre>Ridge(alpha=5.0)</pre></div></div></div><div class=\"sk-serial\"><div class=\"sk-item\"><div class=\"sk-estimator sk-toggleable\"><input class=\"sk-toggleable__control sk-hidden--visually\" id=\"sk-estimator-id-38\" type=\"checkbox\" ><label for=\"sk-estimator-id-38\" class=\"sk-toggleable__label sk-toggleable__label-arrow\">Ridge</label><div class=\"sk-toggleable__content\"><pre>Ridge(alpha=5.0)</pre></div></div></div></div></div></div></div></div><div class=\"sk-item\"><div class=\"sk-estimator sk-toggleable\"><input class=\"sk-toggleable__control sk-hidden--visually\" id=\"sk-estimator-id-39\" type=\"checkbox\" ><label for=\"sk-estimator-id-39\" class=\"sk-toggleable__label sk-toggleable__label-arrow\">Ridge</label><div class=\"sk-toggleable__content\"><pre>Ridge(alpha=5.0)</pre></div></div></div></div></div></div></div></div></div></div></div></div>"
            ]
          },
          "metadata": {},
          "execution_count": 88
        }
      ],
      "source": [
        "from sklearn.model_selection import GridSearchCV\n",
        "\n",
        "param_grid = {\n",
        "    'variance__threshold': [0.0005],\n",
        "    'selection__estimator__alpha': [0.653, 0.655, 0.658],\n",
        "    'regressor__alpha': [2.278, 2.28, 2.283]\n",
        "}\n",
        "grid_search = GridSearchCV(pipe, param_grid, cv=5)\n",
        "\n",
        "grid_search.fit(X_train, y_train)"
      ]
    },
    {
      "cell_type": "code",
      "execution_count": 89,
      "id": "14fd6d31-33b2-44dc-bddf-af8296137d50",
      "metadata": {
        "id": "14fd6d31-33b2-44dc-bddf-af8296137d50"
      },
      "outputs": [],
      "source": [
        "param_best = grid_search.best_estimator_"
      ]
    },
    {
      "cell_type": "code",
      "execution_count": 90,
      "id": "c98296ee-3a0d-4def-8341-a3d0fc88b590",
      "metadata": {
        "colab": {
          "base_uri": "https://localhost:8080/"
        },
        "id": "c98296ee-3a0d-4def-8341-a3d0fc88b590",
        "outputId": "318005ad-436a-4414-d9a7-3fba0b9d5353"
      },
      "outputs": [
        {
          "output_type": "execute_result",
          "data": {
            "text/plain": [
              "{'variance': VarianceThreshold(threshold=0.0005),\n",
              " 'selection': SelectFromModel(estimator=Ridge(alpha=0.653)),\n",
              " 'regressor': Ridge(alpha=2.283)}"
            ]
          },
          "metadata": {},
          "execution_count": 90
        }
      ],
      "source": [
        "param_best.named_steps"
      ]
    },
    {
      "cell_type": "code",
      "execution_count": 91,
      "id": "843fd434-3f32-40d6-8be1-c38900db3e30",
      "metadata": {
        "colab": {
          "base_uri": "https://localhost:8080/"
        },
        "id": "843fd434-3f32-40d6-8be1-c38900db3e30",
        "outputId": "a03123cf-e8e9-4b81-9ad0-e31f59ecdfb0"
      },
      "outputs": [
        {
          "output_type": "stream",
          "name": "stdout",
          "text": [
            "MSE train: 136722344.637947\n",
            "MSE test: 132890852.62866607\n"
          ]
        }
      ],
      "source": [
        "print(f\"MSE train: {mean_squared_error(y_train, param_best.predict(X_train))}\")\n",
        "print(f\"MSE test: {mean_squared_error(y_test, param_best.predict(X_test))}\")"
      ]
    },
    {
      "cell_type": "markdown",
      "source": [
        "#### Как мы видим, ошибка на тесте упала, но это еще не предел"
      ],
      "metadata": {
        "id": "vUrBTFsX1V0L"
      },
      "id": "vUrBTFsX1V0L"
    },
    {
      "cell_type": "markdown",
      "source": [
        "### 2.3 Random Forest"
      ],
      "metadata": {
        "id": "9-9YRQB91tn6"
      },
      "id": "9-9YRQB91tn6"
    },
    {
      "cell_type": "code",
      "source": [
        "from sklearn.ensemble import RandomForestRegressor"
      ],
      "metadata": {
        "id": "DAOv_aSm1zvL"
      },
      "id": "DAOv_aSm1zvL",
      "execution_count": 92,
      "outputs": []
    },
    {
      "cell_type": "code",
      "source": [
        "rf = RandomForestRegressor().fit(X_train, y_train)\n",
        "\n",
        "print(f\"MSE train: {mean_squared_error(y_train, rf.predict(X_train))}\")\n",
        "print(f\"MSE test: {mean_squared_error(y_test, rf.predict(X_test))}\")"
      ],
      "metadata": {
        "colab": {
          "base_uri": "https://localhost:8080/"
        },
        "id": "N0oY5Giy2IwS",
        "outputId": "969e4fff-69c2-4e1d-c3c4-51732dcfdd77"
      },
      "id": "N0oY5Giy2IwS",
      "execution_count": 93,
      "outputs": [
        {
          "output_type": "stream",
          "name": "stdout",
          "text": [
            "MSE train: 10819055.140585242\n",
            "MSE test: 41848897.96834167\n"
          ]
        }
      ]
    },
    {
      "cell_type": "markdown",
      "source": [],
      "metadata": {
        "id": "Ty7tZkknUfcS"
      },
      "id": "Ty7tZkknUfcS"
    },
    {
      "cell_type": "code",
      "source": [
        "param_grid = {\n",
        "    'n_estimators': [700, 800, 900],\n",
        "    'max_depth': [45, 50, 55],\n",
        "    'min_samples_split': [2],\n",
        "    'max_features': ['sqrt']\n",
        "}\n",
        "grid_search = GridSearchCV(rf, param_grid, cv=5)\n",
        "\n",
        "grid_search.fit(X_train, y_train)"
      ],
      "metadata": {
        "colab": {
          "base_uri": "https://localhost:8080/",
          "height": 118
        },
        "id": "9mDbqI5f2cuO",
        "outputId": "c4b7a7d5-2760-4cc3-c0f7-bcd2a8cfe746"
      },
      "id": "9mDbqI5f2cuO",
      "execution_count": 129,
      "outputs": [
        {
          "output_type": "execute_result",
          "data": {
            "text/plain": [
              "GridSearchCV(cv=5, estimator=RandomForestRegressor(),\n",
              "             param_grid={'max_depth': [50], 'max_features': ['sqrt'],\n",
              "                         'min_samples_split': [2], 'n_estimators': [1000]})"
            ],
            "text/html": [
              "<style>#sk-container-id-14 {color: black;}#sk-container-id-14 pre{padding: 0;}#sk-container-id-14 div.sk-toggleable {background-color: white;}#sk-container-id-14 label.sk-toggleable__label {cursor: pointer;display: block;width: 100%;margin-bottom: 0;padding: 0.3em;box-sizing: border-box;text-align: center;}#sk-container-id-14 label.sk-toggleable__label-arrow:before {content: \"▸\";float: left;margin-right: 0.25em;color: #696969;}#sk-container-id-14 label.sk-toggleable__label-arrow:hover:before {color: black;}#sk-container-id-14 div.sk-estimator:hover label.sk-toggleable__label-arrow:before {color: black;}#sk-container-id-14 div.sk-toggleable__content {max-height: 0;max-width: 0;overflow: hidden;text-align: left;background-color: #f0f8ff;}#sk-container-id-14 div.sk-toggleable__content pre {margin: 0.2em;color: black;border-radius: 0.25em;background-color: #f0f8ff;}#sk-container-id-14 input.sk-toggleable__control:checked~div.sk-toggleable__content {max-height: 200px;max-width: 100%;overflow: auto;}#sk-container-id-14 input.sk-toggleable__control:checked~label.sk-toggleable__label-arrow:before {content: \"▾\";}#sk-container-id-14 div.sk-estimator input.sk-toggleable__control:checked~label.sk-toggleable__label {background-color: #d4ebff;}#sk-container-id-14 div.sk-label input.sk-toggleable__control:checked~label.sk-toggleable__label {background-color: #d4ebff;}#sk-container-id-14 input.sk-hidden--visually {border: 0;clip: rect(1px 1px 1px 1px);clip: rect(1px, 1px, 1px, 1px);height: 1px;margin: -1px;overflow: hidden;padding: 0;position: absolute;width: 1px;}#sk-container-id-14 div.sk-estimator {font-family: monospace;background-color: #f0f8ff;border: 1px dotted black;border-radius: 0.25em;box-sizing: border-box;margin-bottom: 0.5em;}#sk-container-id-14 div.sk-estimator:hover {background-color: #d4ebff;}#sk-container-id-14 div.sk-parallel-item::after {content: \"\";width: 100%;border-bottom: 1px solid gray;flex-grow: 1;}#sk-container-id-14 div.sk-label:hover label.sk-toggleable__label {background-color: #d4ebff;}#sk-container-id-14 div.sk-serial::before {content: \"\";position: absolute;border-left: 1px solid gray;box-sizing: border-box;top: 0;bottom: 0;left: 50%;z-index: 0;}#sk-container-id-14 div.sk-serial {display: flex;flex-direction: column;align-items: center;background-color: white;padding-right: 0.2em;padding-left: 0.2em;position: relative;}#sk-container-id-14 div.sk-item {position: relative;z-index: 1;}#sk-container-id-14 div.sk-parallel {display: flex;align-items: stretch;justify-content: center;background-color: white;position: relative;}#sk-container-id-14 div.sk-item::before, #sk-container-id-14 div.sk-parallel-item::before {content: \"\";position: absolute;border-left: 1px solid gray;box-sizing: border-box;top: 0;bottom: 0;left: 50%;z-index: -1;}#sk-container-id-14 div.sk-parallel-item {display: flex;flex-direction: column;z-index: 1;position: relative;background-color: white;}#sk-container-id-14 div.sk-parallel-item:first-child::after {align-self: flex-end;width: 50%;}#sk-container-id-14 div.sk-parallel-item:last-child::after {align-self: flex-start;width: 50%;}#sk-container-id-14 div.sk-parallel-item:only-child::after {width: 0;}#sk-container-id-14 div.sk-dashed-wrapped {border: 1px dashed gray;margin: 0 0.4em 0.5em 0.4em;box-sizing: border-box;padding-bottom: 0.4em;background-color: white;}#sk-container-id-14 div.sk-label label {font-family: monospace;font-weight: bold;display: inline-block;line-height: 1.2em;}#sk-container-id-14 div.sk-label-container {text-align: center;}#sk-container-id-14 div.sk-container {/* jupyter's `normalize.less` sets `[hidden] { display: none; }` but bootstrap.min.css set `[hidden] { display: none !important; }` so we also need the `!important` here to be able to override the default hidden behavior on the sphinx rendered scikit-learn.org. See: https://github.com/scikit-learn/scikit-learn/issues/21755 */display: inline-block !important;position: relative;}#sk-container-id-14 div.sk-text-repr-fallback {display: none;}</style><div id=\"sk-container-id-14\" class=\"sk-top-container\"><div class=\"sk-text-repr-fallback\"><pre>GridSearchCV(cv=5, estimator=RandomForestRegressor(),\n",
              "             param_grid={&#x27;max_depth&#x27;: [50], &#x27;max_features&#x27;: [&#x27;sqrt&#x27;],\n",
              "                         &#x27;min_samples_split&#x27;: [2], &#x27;n_estimators&#x27;: [1000]})</pre><b>In a Jupyter environment, please rerun this cell to show the HTML representation or trust the notebook. <br />On GitHub, the HTML representation is unable to render, please try loading this page with nbviewer.org.</b></div><div class=\"sk-container\" hidden><div class=\"sk-item sk-dashed-wrapped\"><div class=\"sk-label-container\"><div class=\"sk-label sk-toggleable\"><input class=\"sk-toggleable__control sk-hidden--visually\" id=\"sk-estimator-id-61\" type=\"checkbox\" ><label for=\"sk-estimator-id-61\" class=\"sk-toggleable__label sk-toggleable__label-arrow\">GridSearchCV</label><div class=\"sk-toggleable__content\"><pre>GridSearchCV(cv=5, estimator=RandomForestRegressor(),\n",
              "             param_grid={&#x27;max_depth&#x27;: [50], &#x27;max_features&#x27;: [&#x27;sqrt&#x27;],\n",
              "                         &#x27;min_samples_split&#x27;: [2], &#x27;n_estimators&#x27;: [1000]})</pre></div></div></div><div class=\"sk-parallel\"><div class=\"sk-parallel-item\"><div class=\"sk-item\"><div class=\"sk-label-container\"><div class=\"sk-label sk-toggleable\"><input class=\"sk-toggleable__control sk-hidden--visually\" id=\"sk-estimator-id-62\" type=\"checkbox\" ><label for=\"sk-estimator-id-62\" class=\"sk-toggleable__label sk-toggleable__label-arrow\">estimator: RandomForestRegressor</label><div class=\"sk-toggleable__content\"><pre>RandomForestRegressor()</pre></div></div></div><div class=\"sk-serial\"><div class=\"sk-item\"><div class=\"sk-estimator sk-toggleable\"><input class=\"sk-toggleable__control sk-hidden--visually\" id=\"sk-estimator-id-63\" type=\"checkbox\" ><label for=\"sk-estimator-id-63\" class=\"sk-toggleable__label sk-toggleable__label-arrow\">RandomForestRegressor</label><div class=\"sk-toggleable__content\"><pre>RandomForestRegressor()</pre></div></div></div></div></div></div></div></div></div></div>"
            ]
          },
          "metadata": {},
          "execution_count": 129
        }
      ]
    },
    {
      "cell_type": "code",
      "source": [
        "param_best = grid_search.best_estimator_"
      ],
      "metadata": {
        "id": "XMHpws-835Jl"
      },
      "id": "XMHpws-835Jl",
      "execution_count": 130,
      "outputs": []
    },
    {
      "cell_type": "code",
      "source": [
        "grid_search.best_params_"
      ],
      "metadata": {
        "colab": {
          "base_uri": "https://localhost:8080/"
        },
        "id": "5zCE4R6IIDTA",
        "outputId": "52f44704-3cb4-46dd-e1a6-02382b689d6e"
      },
      "id": "5zCE4R6IIDTA",
      "execution_count": 131,
      "outputs": [
        {
          "output_type": "execute_result",
          "data": {
            "text/plain": [
              "{'max_depth': 50,\n",
              " 'max_features': 'sqrt',\n",
              " 'min_samples_split': 2,\n",
              " 'n_estimators': 1000}"
            ]
          },
          "metadata": {},
          "execution_count": 131
        }
      ]
    },
    {
      "cell_type": "code",
      "source": [
        "print(f\"MSE train: {mean_squared_error(y_train, param_best.predict(X_train))}\")\n",
        "print(f\"MSE test: {mean_squared_error(y_test, param_best.predict(X_test))}\")"
      ],
      "metadata": {
        "colab": {
          "base_uri": "https://localhost:8080/"
        },
        "id": "6XrbkiUyE-7N",
        "outputId": "b06bdbe4-2caa-4616-816b-57dd7b7e2205"
      },
      "id": "6XrbkiUyE-7N",
      "execution_count": 132,
      "outputs": [
        {
          "output_type": "stream",
          "name": "stdout",
          "text": [
            "MSE train: 11310114.657842156\n",
            "MSE test: 44164127.51634092\n"
          ]
        }
      ]
    },
    {
      "cell_type": "markdown",
      "source": [
        "### 2.4 Gradient boosting"
      ],
      "metadata": {
        "id": "PJR49N75WRJz"
      },
      "id": "PJR49N75WRJz"
    },
    {
      "cell_type": "code",
      "source": [
        "import xgboost as xgb\n",
        "from xgboost.sklearn import XGBRegressor"
      ],
      "metadata": {
        "id": "BKDWCg7yWanQ"
      },
      "id": "BKDWCg7yWanQ",
      "execution_count": 148,
      "outputs": []
    },
    {
      "cell_type": "code",
      "source": [
        "model_xgb = XGBRegressor(learning_rate = 0.1,\n",
        "                         n_estimators = 150,\n",
        "                         booster='gbtree',\n",
        "                         importance_type='gain',\n",
        "                         n_jobs=-1,\n",
        "                         objective='reg:linear',\n",
        "                         seed=27)"
      ],
      "metadata": {
        "id": "l4KTB44WawB8"
      },
      "id": "l4KTB44WawB8",
      "execution_count": 149,
      "outputs": []
    },
    {
      "cell_type": "code",
      "source": [
        "model_xgb.fit(X_train, y_train)\n",
        "\n",
        "print(f\"train loss: {mean_squared_error(y_train, model_xgb.predict(X_train))}\")\n",
        "print(f\"test loss: {mean_squared_error(y_test, model_xgb.predict(X_test))}\")"
      ],
      "metadata": {
        "colab": {
          "base_uri": "https://localhost:8080/"
        },
        "id": "mgMzipnWa5cm",
        "outputId": "c62ce1cd-076b-4e0a-e364-a28ea7c4f429"
      },
      "id": "mgMzipnWa5cm",
      "execution_count": 150,
      "outputs": [
        {
          "output_type": "stream",
          "name": "stdout",
          "text": [
            "train loss: 34407248.868463516\n",
            "test loss: 46968833.40669185\n"
          ]
        }
      ]
    },
    {
      "cell_type": "code",
      "source": [
        "param_test1 = {\n",
        "    'max_depth':[2, 5, 7, 10],\n",
        "    'min_child_weight':[1e-12, 1e-11, 1e-10]\n",
        "}\n",
        "\n",
        "gsearch1 = GridSearchCV(estimator=model_xgb,\n",
        "                        param_grid=param_test1,\n",
        "                        scoring='neg_mean_squared_error',\n",
        "                        n_jobs=-1,\n",
        "                        cv=5)\n",
        "\n",
        "gsearch1.fit(X_train, y_train)\n",
        "\n",
        "gsearch1.best_params_, gsearch1.best_score_"
      ],
      "metadata": {
        "colab": {
          "base_uri": "https://localhost:8080/"
        },
        "id": "nSKAl8ija79z",
        "outputId": "25705690-3f4f-4fc7-beb7-4d1f24a29dcb"
      },
      "id": "nSKAl8ija79z",
      "execution_count": 151,
      "outputs": [
        {
          "output_type": "execute_result",
          "data": {
            "text/plain": [
              "({'max_depth': 10, 'min_child_weight': 1e-12}, -46968126.65340796)"
            ]
          },
          "metadata": {},
          "execution_count": 151
        }
      ]
    },
    {
      "cell_type": "code",
      "source": [
        "model_xgb.max_depth = 10\n",
        "model_xgb.min_child_weight = 1e-12"
      ],
      "metadata": {
        "id": "x6_OUW_W1jSz"
      },
      "id": "x6_OUW_W1jSz",
      "execution_count": 152,
      "outputs": []
    },
    {
      "cell_type": "code",
      "source": [
        "param_test2 = {\n",
        "    'gamma' : [4, 4.1, 4.2]\n",
        "}\n",
        "\n",
        "gsearch2 = GridSearchCV(estimator=model_xgb,\n",
        "                        param_grid=param_test2,\n",
        "                        scoring='neg_mean_squared_error',\n",
        "                        n_jobs=-1,\n",
        "                        cv=5)\n",
        "\n",
        "gsearch2.fit(X_train, y_train)\n",
        "\n",
        "gsearch2.best_params_, gsearch2.best_score_"
      ],
      "metadata": {
        "colab": {
          "base_uri": "https://localhost:8080/"
        },
        "id": "lrHfsRdO_qHI",
        "outputId": "d4785695-b3f0-4b86-c929-fe1bd71d0c3c"
      },
      "id": "lrHfsRdO_qHI",
      "execution_count": 160,
      "outputs": [
        {
          "output_type": "execute_result",
          "data": {
            "text/plain": [
              "({'gamma': 4.1}, -46968126.59259272)"
            ]
          },
          "metadata": {},
          "execution_count": 160
        }
      ]
    },
    {
      "cell_type": "code",
      "source": [
        "model_xgb.gamma = 4.1"
      ],
      "metadata": {
        "id": "qyvpWPLs_2jS"
      },
      "id": "qyvpWPLs_2jS",
      "execution_count": 161,
      "outputs": []
    },
    {
      "cell_type": "code",
      "source": [
        "param_test3 = {\n",
        "    'subsample' : [0.76, 0.8, 0.84],\n",
        "    'colsample_bytree' : [0.86, 0.9, 0.94]\n",
        "}\n",
        "\n",
        "gsearch3 = GridSearchCV(estimator=model_xgb,\n",
        "                        param_grid = param_test3,\n",
        "                        scoring='neg_mean_squared_error',\n",
        "                        n_jobs = -1,\n",
        "                        cv = 5)\n",
        "\n",
        "gsearch3.fit(X_train, y_train)\n",
        "\n",
        "gsearch3.best_params_, gsearch3.best_score_"
      ],
      "metadata": {
        "colab": {
          "base_uri": "https://localhost:8080/"
        },
        "id": "_p-92U93FIxg",
        "outputId": "b9ccf7aa-9614-4746-f354-f4318797bb0f"
      },
      "id": "_p-92U93FIxg",
      "execution_count": 164,
      "outputs": [
        {
          "output_type": "execute_result",
          "data": {
            "text/plain": [
              "({'colsample_bytree': 0.9, 'subsample': 0.8}, -46628962.34735502)"
            ]
          },
          "metadata": {},
          "execution_count": 164
        }
      ]
    },
    {
      "cell_type": "code",
      "source": [
        "model_xgb.subsample = 0.8\n",
        "model_xgb.colsample_bytree = 0.9"
      ],
      "metadata": {
        "id": "HB7n4w3hFQnJ"
      },
      "id": "HB7n4w3hFQnJ",
      "execution_count": 166,
      "outputs": []
    },
    {
      "cell_type": "code",
      "source": [
        "param_test4 = {\n",
        "    'reg_alpha' : [0.02, 0.03, 0.04]\n",
        "}\n",
        "\n",
        "gsearch4 = GridSearchCV(estimator=model_xgb,\n",
        "                        param_grid = param_test4,\n",
        "                        scoring='neg_mean_squared_error',\n",
        "                        n_jobs = -1,\n",
        "                        cv = 5)\n",
        "\n",
        "gsearch4.fit(X_train, y_train)\n",
        "\n",
        "gsearch4.best_params_, gsearch4.best_score_"
      ],
      "metadata": {
        "colab": {
          "base_uri": "https://localhost:8080/"
        },
        "id": "ntpEswzYHKLs",
        "outputId": "e02e7ff6-05ea-4153-98c4-207082beaf94"
      },
      "id": "ntpEswzYHKLs",
      "execution_count": 170,
      "outputs": [
        {
          "output_type": "execute_result",
          "data": {
            "text/plain": [
              "({'reg_alpha': 0.03}, -46628954.01268518)"
            ]
          },
          "metadata": {},
          "execution_count": 170
        }
      ]
    },
    {
      "cell_type": "code",
      "source": [
        "model_xgb.reg_alpha = 0.03"
      ],
      "metadata": {
        "id": "9YkadxGlHh-j"
      },
      "id": "9YkadxGlHh-j",
      "execution_count": 171,
      "outputs": []
    },
    {
      "cell_type": "code",
      "source": [
        "param_test5 = {\n",
        "    'learning_rate' : [0.02, 0.03, 0.04],\n",
        "    'n_estimators' : [1000, 1100, 1200]\n",
        "}\n",
        "\n",
        "gsearch5 = GridSearchCV(estimator=model_xgb,\n",
        "                        param_grid = param_test5,\n",
        "                        scoring='neg_mean_squared_error',\n",
        "                        n_jobs = -1,\n",
        "                        cv = 5)\n",
        "\n",
        "gsearch5.fit(X_train, y_train)\n",
        "\n",
        "gsearch5.best_params_, gsearch5.best_score_"
      ],
      "metadata": {
        "colab": {
          "base_uri": "https://localhost:8080/"
        },
        "id": "FNfNFmqTI7hK",
        "outputId": "57bd3209-55d0-4bac-ab6d-b8c5fc5c93c3"
      },
      "id": "FNfNFmqTI7hK",
      "execution_count": 177,
      "outputs": [
        {
          "output_type": "execute_result",
          "data": {
            "text/plain": [
              "({'learning_rate': 0.03, 'n_estimators': 1100}, -45935418.69979252)"
            ]
          },
          "metadata": {},
          "execution_count": 177
        }
      ]
    },
    {
      "cell_type": "code",
      "source": [],
      "metadata": {
        "id": "WFWL7GXhJ12o"
      },
      "id": "WFWL7GXhJ12o",
      "execution_count": null,
      "outputs": []
    }
  ],
  "metadata": {
    "kernelspec": {
      "display_name": "Python 3 (ipykernel)",
      "language": "python",
      "name": "python3"
    },
    "language_info": {
      "codemirror_mode": {
        "name": "ipython",
        "version": 3
      },
      "file_extension": ".py",
      "mimetype": "text/x-python",
      "name": "python",
      "nbconvert_exporter": "python",
      "pygments_lexer": "ipython3",
      "version": "3.9.18"
    },
    "colab": {
      "provenance": [],
      "include_colab_link": true
    }
  },
  "nbformat": 4,
  "nbformat_minor": 5
}